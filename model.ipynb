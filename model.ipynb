{
 "cells": [
  {
   "cell_type": "code",
   "execution_count": 45,
   "metadata": {},
   "outputs": [],
   "source": [
    "# Import libs\n",
    "import pandas as pd \n",
    "import matplotlib.pyplot as plt \n",
    "import numpy as np \n",
    "import os \n",
    "import os.path as osp \n",
    "from collections import defaultdict\n",
    "from PIL import Image\n",
    "import math \n",
    "from tqdm.notebook import tqdm \n",
    "import random\n",
    "\n",
    "import torch \n",
    "from torch import nn \n",
    "import torch.nn.functional as F \n",
    "from torch import optim \n",
    "import torchvision \n",
    "from torch.utils.data import Dataset, DataLoader\n",
    "from torchvision import transforms\n",
    "from torchinfo import summary\n",
    "\n",
    "import datetime\n",
    "\n",
    "from sklearn.metrics import mean_squared_error\n",
    "from keras.preprocessing.sequence import TimeseriesGenerator"
   ]
  },
  {
   "cell_type": "markdown",
   "metadata": {},
   "source": [
    "# Data preparation"
   ]
  },
  {
   "cell_type": "markdown",
   "metadata": {},
   "source": [
    "## Combine 2 datasets together"
   ]
  },
  {
   "cell_type": "code",
   "execution_count": 2,
   "metadata": {},
   "outputs": [],
   "source": [
    "stations = ['76t']"
   ]
  },
  {
   "cell_type": "code",
   "execution_count": 3,
   "metadata": {},
   "outputs": [],
   "source": [
    "station_to_file = {'76t': 'data/PCD Data/Data before 2020-9/(76t)ศูนย์การศึกษานอกโรงเรียน จ.ตาก.xlsx'}"
   ]
  },
  {
   "cell_type": "code",
   "execution_count": 4,
   "metadata": {},
   "outputs": [],
   "source": [
    "dfs1 = {}\n",
    "for station in stations:\n",
    "    dfs1[station] = pd.read_excel(station_to_file[station])"
   ]
  },
  {
   "cell_type": "code",
   "execution_count": 5,
   "metadata": {},
   "outputs": [
    {
     "data": {
      "text/html": [
       "<div>\n",
       "<style scoped>\n",
       "    .dataframe tbody tr th:only-of-type {\n",
       "        vertical-align: middle;\n",
       "    }\n",
       "\n",
       "    .dataframe tbody tr th {\n",
       "        vertical-align: top;\n",
       "    }\n",
       "\n",
       "    .dataframe thead th {\n",
       "        text-align: right;\n",
       "    }\n",
       "</style>\n",
       "<table border=\"1\" class=\"dataframe\">\n",
       "  <thead>\n",
       "    <tr style=\"text-align: right;\">\n",
       "      <th></th>\n",
       "      <th>ปี/เดือน/วัน</th>\n",
       "      <th>ชั่วโมง</th>\n",
       "      <th>PM10</th>\n",
       "      <th>PM2.5</th>\n",
       "      <th>CO</th>\n",
       "      <th>NO2</th>\n",
       "      <th>O3</th>\n",
       "      <th>WS</th>\n",
       "      <th>WD</th>\n",
       "      <th>TEMP</th>\n",
       "      <th>RH</th>\n",
       "    </tr>\n",
       "  </thead>\n",
       "  <tbody>\n",
       "    <tr>\n",
       "      <th>0</th>\n",
       "      <td>NaN</td>\n",
       "      <td>NaN</td>\n",
       "      <td>at 3 m (มคก./ลบ.ม.)</td>\n",
       "      <td>at 3 m (มคก./ลบ.ม.)</td>\n",
       "      <td>at 3 m (ppm)</td>\n",
       "      <td>at 3 m (ppb)</td>\n",
       "      <td>at 3 m (ppb)</td>\n",
       "      <td>at 10 m (m/s)</td>\n",
       "      <td>at 10 m (Deg.M)</td>\n",
       "      <td>at 3 m</td>\n",
       "      <td>at 3 m (%RH)</td>\n",
       "    </tr>\n",
       "    <tr>\n",
       "      <th>1</th>\n",
       "      <td>160601.0</td>\n",
       "      <td>100.0</td>\n",
       "      <td>12</td>\n",
       "      <td>2</td>\n",
       "      <td>0.2</td>\n",
       "      <td>0</td>\n",
       "      <td>9</td>\n",
       "      <td>0</td>\n",
       "      <td>NaN</td>\n",
       "      <td>26</td>\n",
       "      <td>85</td>\n",
       "    </tr>\n",
       "    <tr>\n",
       "      <th>2</th>\n",
       "      <td>160601.0</td>\n",
       "      <td>200.0</td>\n",
       "      <td>15</td>\n",
       "      <td>4</td>\n",
       "      <td>0.3</td>\n",
       "      <td>0</td>\n",
       "      <td>8</td>\n",
       "      <td>0.3</td>\n",
       "      <td>217</td>\n",
       "      <td>25.7</td>\n",
       "      <td>87</td>\n",
       "    </tr>\n",
       "    <tr>\n",
       "      <th>3</th>\n",
       "      <td>160601.0</td>\n",
       "      <td>300.0</td>\n",
       "      <td>12</td>\n",
       "      <td>4</td>\n",
       "      <td>0.2</td>\n",
       "      <td>0</td>\n",
       "      <td>5</td>\n",
       "      <td>0.2</td>\n",
       "      <td>111</td>\n",
       "      <td>25.5</td>\n",
       "      <td>88</td>\n",
       "    </tr>\n",
       "    <tr>\n",
       "      <th>4</th>\n",
       "      <td>160601.0</td>\n",
       "      <td>400.0</td>\n",
       "      <td>18</td>\n",
       "      <td>4</td>\n",
       "      <td>0.3</td>\n",
       "      <td>0</td>\n",
       "      <td>5</td>\n",
       "      <td>0.1</td>\n",
       "      <td>NaN</td>\n",
       "      <td>25.6</td>\n",
       "      <td>87</td>\n",
       "    </tr>\n",
       "  </tbody>\n",
       "</table>\n",
       "</div>"
      ],
      "text/plain": [
       "   ปี/เดือน/วัน  ชั่วโมง                 PM10                PM2.5  \\\n",
       "0           NaN      NaN  at 3 m (มคก./ลบ.ม.)  at 3 m (มคก./ลบ.ม.)   \n",
       "1      160601.0    100.0                   12                    2   \n",
       "2      160601.0    200.0                   15                    4   \n",
       "3      160601.0    300.0                   12                    4   \n",
       "4      160601.0    400.0                   18                    4   \n",
       "\n",
       "             CO           NO2            O3             WS               WD  \\\n",
       "0  at 3 m (ppm)  at 3 m (ppb)  at 3 m (ppb)  at 10 m (m/s)  at 10 m (Deg.M)   \n",
       "1           0.2             0             9              0              NaN   \n",
       "2           0.3             0             8            0.3              217   \n",
       "3           0.2             0             5            0.2              111   \n",
       "4           0.3             0             5            0.1              NaN   \n",
       "\n",
       "     TEMP            RH  \n",
       "0  at 3 m  at 3 m (%RH)  \n",
       "1      26            85  \n",
       "2    25.7            87  \n",
       "3    25.5            88  \n",
       "4    25.6            87  "
      ]
     },
     "execution_count": 5,
     "metadata": {},
     "output_type": "execute_result"
    }
   ],
   "source": [
    "dfs1['76t'].head()"
   ]
  },
  {
   "cell_type": "code",
   "execution_count": 6,
   "metadata": {},
   "outputs": [],
   "source": [
    "def process_data_before(df):\n",
    "    df = df.iloc[1:,:]\n",
    "    df = df.drop(['PM10', 'CO', 'NO2', 'O3', 'WS', 'WD', 'TEMP', 'RH'], axis=1)\n",
    "    df['Date'] = pd.to_datetime(df['ปี/เดือน/วัน'], format='%y%m%d')\n",
    "    df['ชั่วโมง'] = df['ชั่วโมง'].apply(lambda x: 0 if int(x) == 2400 else x)\n",
    "    df.loc[df['ชั่วโมง'] == 0, 'Date'] += datetime.timedelta(days=1)\n",
    "    df['Time'] = df['ชั่วโมง'].astype('str')\n",
    "    df['Time'] = df['Time'].apply(lambda x: x[:-2].zfill(4))\n",
    "    df['Datetime'] = pd.to_datetime(df['Date'].astype('str') + ' ' +df['Time'], format='%Y-%m-%d %H%M')\n",
    "    df = df.drop(['Time', 'Date', 'ปี/เดือน/วัน', 'ชั่วโมง'], axis=1)\n",
    "    df = df.set_index('Datetime').sort_index()\n",
    "    df = df[df.index < '2020-07-20 19:00:00']\n",
    "    df['PM2.5'] = df['PM2.5'].replace('-', np.nan)\n",
    "    return df"
   ]
  },
  {
   "cell_type": "code",
   "execution_count": 7,
   "metadata": {},
   "outputs": [
    {
     "data": {
      "text/html": [
       "<div>\n",
       "<style scoped>\n",
       "    .dataframe tbody tr th:only-of-type {\n",
       "        vertical-align: middle;\n",
       "    }\n",
       "\n",
       "    .dataframe tbody tr th {\n",
       "        vertical-align: top;\n",
       "    }\n",
       "\n",
       "    .dataframe thead th {\n",
       "        text-align: right;\n",
       "    }\n",
       "</style>\n",
       "<table border=\"1\" class=\"dataframe\">\n",
       "  <thead>\n",
       "    <tr style=\"text-align: right;\">\n",
       "      <th></th>\n",
       "      <th>PM2.5</th>\n",
       "    </tr>\n",
       "    <tr>\n",
       "      <th>Datetime</th>\n",
       "      <th></th>\n",
       "    </tr>\n",
       "  </thead>\n",
       "  <tbody>\n",
       "    <tr>\n",
       "      <th>2020-07-20 14:00:00</th>\n",
       "      <td>5.0</td>\n",
       "    </tr>\n",
       "    <tr>\n",
       "      <th>2020-07-20 15:00:00</th>\n",
       "      <td>4.0</td>\n",
       "    </tr>\n",
       "    <tr>\n",
       "      <th>2020-07-20 16:00:00</th>\n",
       "      <td>9.0</td>\n",
       "    </tr>\n",
       "    <tr>\n",
       "      <th>2020-07-20 17:00:00</th>\n",
       "      <td>7.0</td>\n",
       "    </tr>\n",
       "    <tr>\n",
       "      <th>2020-07-20 18:00:00</th>\n",
       "      <td>4.0</td>\n",
       "    </tr>\n",
       "  </tbody>\n",
       "</table>\n",
       "</div>"
      ],
      "text/plain": [
       "                     PM2.5\n",
       "Datetime                  \n",
       "2020-07-20 14:00:00    5.0\n",
       "2020-07-20 15:00:00    4.0\n",
       "2020-07-20 16:00:00    9.0\n",
       "2020-07-20 17:00:00    7.0\n",
       "2020-07-20 18:00:00    4.0"
      ]
     },
     "execution_count": 7,
     "metadata": {},
     "output_type": "execute_result"
    }
   ],
   "source": [
    "process_data_before(dfs1['76t']).tail()"
   ]
  },
  {
   "cell_type": "code",
   "execution_count": 8,
   "metadata": {},
   "outputs": [],
   "source": [
    "df2 = pd.read_csv('data/PCD Data/Data after 2020-7/PCD data after 2020-7.csv')"
   ]
  },
  {
   "cell_type": "code",
   "execution_count": 9,
   "metadata": {},
   "outputs": [],
   "source": [
    "dfs2 = {}\n",
    "for station in stations:\n",
    "    dfs2[station] = df2[df2['stationID'] == '76t']"
   ]
  },
  {
   "cell_type": "code",
   "execution_count": 10,
   "metadata": {},
   "outputs": [
    {
     "data": {
      "text/html": [
       "<div>\n",
       "<style scoped>\n",
       "    .dataframe tbody tr th:only-of-type {\n",
       "        vertical-align: middle;\n",
       "    }\n",
       "\n",
       "    .dataframe tbody tr th {\n",
       "        vertical-align: top;\n",
       "    }\n",
       "\n",
       "    .dataframe thead th {\n",
       "        text-align: right;\n",
       "    }\n",
       "</style>\n",
       "<table border=\"1\" class=\"dataframe\">\n",
       "  <thead>\n",
       "    <tr style=\"text-align: right;\">\n",
       "      <th></th>\n",
       "      <th>id</th>\n",
       "      <th>stationID</th>\n",
       "      <th>nameTH</th>\n",
       "      <th>nameEN</th>\n",
       "      <th>stationType</th>\n",
       "      <th>lat</th>\n",
       "      <th>long</th>\n",
       "      <th>date_aq</th>\n",
       "      <th>time_aq</th>\n",
       "      <th>PM25</th>\n",
       "      <th>PM10</th>\n",
       "      <th>NO2</th>\n",
       "      <th>SO2</th>\n",
       "      <th>CO</th>\n",
       "      <th>O3</th>\n",
       "      <th>AQI</th>\n",
       "      <th>areaTH</th>\n",
       "      <th>areaEN</th>\n",
       "      <th>datetime_aq</th>\n",
       "    </tr>\n",
       "  </thead>\n",
       "  <tbody>\n",
       "    <tr>\n",
       "      <th>0</th>\n",
       "      <td>515454</td>\n",
       "      <td>76t</td>\n",
       "      <td>ศูนย์การศึกษานอกโรงเรียน</td>\n",
       "      <td>Non-Formal Education Centre, Mea Sot</td>\n",
       "      <td>GROUND</td>\n",
       "      <td>16.750102</td>\n",
       "      <td>98.591312</td>\n",
       "      <td>2020-07-20</td>\n",
       "      <td>21:00:00</td>\n",
       "      <td>8.0</td>\n",
       "      <td>22.0</td>\n",
       "      <td>4.0</td>\n",
       "      <td>NaN</td>\n",
       "      <td>0.13</td>\n",
       "      <td>13.0</td>\n",
       "      <td>1</td>\n",
       "      <td>ต.แม่ปะ อ.แม่สอด, ตาก</td>\n",
       "      <td>MaePa, MaeSot, Tak</td>\n",
       "      <td>2020-07-20 21:00:00.000</td>\n",
       "    </tr>\n",
       "    <tr>\n",
       "      <th>87</th>\n",
       "      <td>515583</td>\n",
       "      <td>76t</td>\n",
       "      <td>ศูนย์การศึกษานอกโรงเรียน</td>\n",
       "      <td>Non-Formal Education Centre, Mea Sot</td>\n",
       "      <td>GROUND</td>\n",
       "      <td>16.750102</td>\n",
       "      <td>98.591312</td>\n",
       "      <td>2020-07-20</td>\n",
       "      <td>22:00:00</td>\n",
       "      <td>8.0</td>\n",
       "      <td>22.0</td>\n",
       "      <td>4.0</td>\n",
       "      <td>NaN</td>\n",
       "      <td>0.13</td>\n",
       "      <td>12.0</td>\n",
       "      <td>1</td>\n",
       "      <td>ต.แม่ปะ อ.แม่สอด, ตาก</td>\n",
       "      <td>MaePa, MaeSot, Tak</td>\n",
       "      <td>2020-07-20 22:00:00.000</td>\n",
       "    </tr>\n",
       "    <tr>\n",
       "      <th>226</th>\n",
       "      <td>515712</td>\n",
       "      <td>76t</td>\n",
       "      <td>ศูนย์การศึกษานอกโรงเรียน</td>\n",
       "      <td>Non-Formal Education Centre, Mea Sot</td>\n",
       "      <td>GROUND</td>\n",
       "      <td>16.750102</td>\n",
       "      <td>98.591312</td>\n",
       "      <td>2020-07-20</td>\n",
       "      <td>23:00:00</td>\n",
       "      <td>8.0</td>\n",
       "      <td>22.0</td>\n",
       "      <td>4.0</td>\n",
       "      <td>NaN</td>\n",
       "      <td>0.17</td>\n",
       "      <td>11.0</td>\n",
       "      <td>1</td>\n",
       "      <td>ต.แม่ปะ อ.แม่สอด, ตาก</td>\n",
       "      <td>MaePa, MaeSot, Tak</td>\n",
       "      <td>2020-07-20 23:00:00.000</td>\n",
       "    </tr>\n",
       "    <tr>\n",
       "      <th>394</th>\n",
       "      <td>515196</td>\n",
       "      <td>76t</td>\n",
       "      <td>ศูนย์การศึกษานอกโรงเรียน</td>\n",
       "      <td>Non-Formal Education Centre, Mea Sot</td>\n",
       "      <td>GROUND</td>\n",
       "      <td>16.750102</td>\n",
       "      <td>98.591312</td>\n",
       "      <td>2020-07-20</td>\n",
       "      <td>19:00:00</td>\n",
       "      <td>8.0</td>\n",
       "      <td>22.0</td>\n",
       "      <td>3.0</td>\n",
       "      <td>NaN</td>\n",
       "      <td>0.12</td>\n",
       "      <td>15.0</td>\n",
       "      <td>1</td>\n",
       "      <td>ต.แม่ปะ อ.แม่สอด, ตาก</td>\n",
       "      <td>MaePa, MaeSot, Tak</td>\n",
       "      <td>2020-07-20 19:00:00.000</td>\n",
       "    </tr>\n",
       "    <tr>\n",
       "      <th>512</th>\n",
       "      <td>515325</td>\n",
       "      <td>76t</td>\n",
       "      <td>ศูนย์การศึกษานอกโรงเรียน</td>\n",
       "      <td>Non-Formal Education Centre, Mea Sot</td>\n",
       "      <td>GROUND</td>\n",
       "      <td>16.750102</td>\n",
       "      <td>98.591312</td>\n",
       "      <td>2020-07-20</td>\n",
       "      <td>20:00:00</td>\n",
       "      <td>8.0</td>\n",
       "      <td>22.0</td>\n",
       "      <td>4.0</td>\n",
       "      <td>NaN</td>\n",
       "      <td>0.13</td>\n",
       "      <td>14.0</td>\n",
       "      <td>1</td>\n",
       "      <td>ต.แม่ปะ อ.แม่สอด, ตาก</td>\n",
       "      <td>MaePa, MaeSot, Tak</td>\n",
       "      <td>2020-07-20 20:00:00.000</td>\n",
       "    </tr>\n",
       "  </tbody>\n",
       "</table>\n",
       "</div>"
      ],
      "text/plain": [
       "         id stationID                    nameTH  \\\n",
       "0    515454       76t  ศูนย์การศึกษานอกโรงเรียน   \n",
       "87   515583       76t  ศูนย์การศึกษานอกโรงเรียน   \n",
       "226  515712       76t  ศูนย์การศึกษานอกโรงเรียน   \n",
       "394  515196       76t  ศูนย์การศึกษานอกโรงเรียน   \n",
       "512  515325       76t  ศูนย์การศึกษานอกโรงเรียน   \n",
       "\n",
       "                                   nameEN stationType        lat       long  \\\n",
       "0    Non-Formal Education Centre, Mea Sot      GROUND  16.750102  98.591312   \n",
       "87   Non-Formal Education Centre, Mea Sot      GROUND  16.750102  98.591312   \n",
       "226  Non-Formal Education Centre, Mea Sot      GROUND  16.750102  98.591312   \n",
       "394  Non-Formal Education Centre, Mea Sot      GROUND  16.750102  98.591312   \n",
       "512  Non-Formal Education Centre, Mea Sot      GROUND  16.750102  98.591312   \n",
       "\n",
       "        date_aq   time_aq  PM25  PM10  NO2  SO2    CO    O3  AQI  \\\n",
       "0    2020-07-20  21:00:00   8.0  22.0  4.0  NaN  0.13  13.0    1   \n",
       "87   2020-07-20  22:00:00   8.0  22.0  4.0  NaN  0.13  12.0    1   \n",
       "226  2020-07-20  23:00:00   8.0  22.0  4.0  NaN  0.17  11.0    1   \n",
       "394  2020-07-20  19:00:00   8.0  22.0  3.0  NaN  0.12  15.0    1   \n",
       "512  2020-07-20  20:00:00   8.0  22.0  4.0  NaN  0.13  14.0    1   \n",
       "\n",
       "                    areaTH              areaEN              datetime_aq  \n",
       "0    ต.แม่ปะ อ.แม่สอด, ตาก  MaePa, MaeSot, Tak  2020-07-20 21:00:00.000  \n",
       "87   ต.แม่ปะ อ.แม่สอด, ตาก  MaePa, MaeSot, Tak  2020-07-20 22:00:00.000  \n",
       "226  ต.แม่ปะ อ.แม่สอด, ตาก  MaePa, MaeSot, Tak  2020-07-20 23:00:00.000  \n",
       "394  ต.แม่ปะ อ.แม่สอด, ตาก  MaePa, MaeSot, Tak  2020-07-20 19:00:00.000  \n",
       "512  ต.แม่ปะ อ.แม่สอด, ตาก  MaePa, MaeSot, Tak  2020-07-20 20:00:00.000  "
      ]
     },
     "execution_count": 10,
     "metadata": {},
     "output_type": "execute_result"
    }
   ],
   "source": [
    "dfs2['76t'].head()"
   ]
  },
  {
   "cell_type": "code",
   "execution_count": 11,
   "metadata": {},
   "outputs": [],
   "source": [
    "def process_data_after(df):\n",
    "    df = df.drop(['id', 'stationID', 'nameTH', 'nameEN', 'stationType', 'lat', 'long', 'date_aq', 'time_aq', 'PM10', 'NO2', 'SO2', 'CO', 'O3', 'AQI','areaTH', 'areaEN'], axis=1)\n",
    "    df['Datetime'] = pd.to_datetime(df['datetime_aq'], format='%Y-%m-%d %H:%M:%S.%f')\n",
    "    df = df.set_index('Datetime').sort_index()\n",
    "    df = df.rename(columns={'PM25': 'PM2.5'})\n",
    "    df = df.drop(['datetime_aq'], axis=1)\n",
    "    return df"
   ]
  },
  {
   "cell_type": "code",
   "execution_count": 12,
   "metadata": {},
   "outputs": [
    {
     "data": {
      "text/html": [
       "<div>\n",
       "<style scoped>\n",
       "    .dataframe tbody tr th:only-of-type {\n",
       "        vertical-align: middle;\n",
       "    }\n",
       "\n",
       "    .dataframe tbody tr th {\n",
       "        vertical-align: top;\n",
       "    }\n",
       "\n",
       "    .dataframe thead th {\n",
       "        text-align: right;\n",
       "    }\n",
       "</style>\n",
       "<table border=\"1\" class=\"dataframe\">\n",
       "  <thead>\n",
       "    <tr style=\"text-align: right;\">\n",
       "      <th></th>\n",
       "      <th>PM2.5</th>\n",
       "    </tr>\n",
       "    <tr>\n",
       "      <th>Datetime</th>\n",
       "      <th></th>\n",
       "    </tr>\n",
       "  </thead>\n",
       "  <tbody>\n",
       "    <tr>\n",
       "      <th>2020-07-20 19:00:00</th>\n",
       "      <td>8.0</td>\n",
       "    </tr>\n",
       "    <tr>\n",
       "      <th>2020-07-20 20:00:00</th>\n",
       "      <td>8.0</td>\n",
       "    </tr>\n",
       "    <tr>\n",
       "      <th>2020-07-20 21:00:00</th>\n",
       "      <td>8.0</td>\n",
       "    </tr>\n",
       "    <tr>\n",
       "      <th>2020-07-20 22:00:00</th>\n",
       "      <td>8.0</td>\n",
       "    </tr>\n",
       "    <tr>\n",
       "      <th>2020-07-20 23:00:00</th>\n",
       "      <td>8.0</td>\n",
       "    </tr>\n",
       "  </tbody>\n",
       "</table>\n",
       "</div>"
      ],
      "text/plain": [
       "                     PM2.5\n",
       "Datetime                  \n",
       "2020-07-20 19:00:00    8.0\n",
       "2020-07-20 20:00:00    8.0\n",
       "2020-07-20 21:00:00    8.0\n",
       "2020-07-20 22:00:00    8.0\n",
       "2020-07-20 23:00:00    8.0"
      ]
     },
     "execution_count": 12,
     "metadata": {},
     "output_type": "execute_result"
    }
   ],
   "source": [
    "process_data_after(dfs2['76t']).head()"
   ]
  },
  {
   "cell_type": "code",
   "execution_count": 13,
   "metadata": {},
   "outputs": [],
   "source": [
    "dfs = {}\n",
    "for station in stations:\n",
    "    dfs[station] = pd.concat((process_data_before(dfs1[station]), process_data_after(dfs2[station])))"
   ]
  },
  {
   "cell_type": "code",
   "execution_count": 14,
   "metadata": {},
   "outputs": [
    {
     "data": {
      "text/html": [
       "<div>\n",
       "<style scoped>\n",
       "    .dataframe tbody tr th:only-of-type {\n",
       "        vertical-align: middle;\n",
       "    }\n",
       "\n",
       "    .dataframe tbody tr th {\n",
       "        vertical-align: top;\n",
       "    }\n",
       "\n",
       "    .dataframe thead th {\n",
       "        text-align: right;\n",
       "    }\n",
       "</style>\n",
       "<table border=\"1\" class=\"dataframe\">\n",
       "  <thead>\n",
       "    <tr style=\"text-align: right;\">\n",
       "      <th></th>\n",
       "      <th>PM2.5</th>\n",
       "    </tr>\n",
       "    <tr>\n",
       "      <th>Datetime</th>\n",
       "      <th></th>\n",
       "    </tr>\n",
       "  </thead>\n",
       "  <tbody>\n",
       "    <tr>\n",
       "      <th>2016-06-01 01:00:00</th>\n",
       "      <td>2.0</td>\n",
       "    </tr>\n",
       "    <tr>\n",
       "      <th>2016-06-01 02:00:00</th>\n",
       "      <td>4.0</td>\n",
       "    </tr>\n",
       "    <tr>\n",
       "      <th>2016-06-01 03:00:00</th>\n",
       "      <td>4.0</td>\n",
       "    </tr>\n",
       "    <tr>\n",
       "      <th>2016-06-01 04:00:00</th>\n",
       "      <td>4.0</td>\n",
       "    </tr>\n",
       "    <tr>\n",
       "      <th>2016-06-01 05:00:00</th>\n",
       "      <td>7.0</td>\n",
       "    </tr>\n",
       "    <tr>\n",
       "      <th>...</th>\n",
       "      <td>...</td>\n",
       "    </tr>\n",
       "    <tr>\n",
       "      <th>2022-01-30 14:00:00</th>\n",
       "      <td>35.0</td>\n",
       "    </tr>\n",
       "    <tr>\n",
       "      <th>2022-01-30 15:00:00</th>\n",
       "      <td>36.0</td>\n",
       "    </tr>\n",
       "    <tr>\n",
       "      <th>2022-01-30 16:00:00</th>\n",
       "      <td>37.0</td>\n",
       "    </tr>\n",
       "    <tr>\n",
       "      <th>2022-01-30 16:00:00</th>\n",
       "      <td>37.0</td>\n",
       "    </tr>\n",
       "    <tr>\n",
       "      <th>2022-01-30 18:00:00</th>\n",
       "      <td>38.0</td>\n",
       "    </tr>\n",
       "  </tbody>\n",
       "</table>\n",
       "<p>49388 rows × 1 columns</p>\n",
       "</div>"
      ],
      "text/plain": [
       "                     PM2.5\n",
       "Datetime                  \n",
       "2016-06-01 01:00:00    2.0\n",
       "2016-06-01 02:00:00    4.0\n",
       "2016-06-01 03:00:00    4.0\n",
       "2016-06-01 04:00:00    4.0\n",
       "2016-06-01 05:00:00    7.0\n",
       "...                    ...\n",
       "2022-01-30 14:00:00   35.0\n",
       "2022-01-30 15:00:00   36.0\n",
       "2022-01-30 16:00:00   37.0\n",
       "2022-01-30 16:00:00   37.0\n",
       "2022-01-30 18:00:00   38.0\n",
       "\n",
       "[49388 rows x 1 columns]"
      ]
     },
     "execution_count": 14,
     "metadata": {},
     "output_type": "execute_result"
    }
   ],
   "source": [
    "dfs['76t']"
   ]
  },
  {
   "cell_type": "markdown",
   "metadata": {},
   "source": [
    "## Impute missing value"
   ]
  },
  {
   "cell_type": "code",
   "execution_count": 15,
   "metadata": {},
   "outputs": [],
   "source": [
    "for station in stations:\n",
    "    dfs[station] = dfs[station].ffill()\n",
    "    # dfs[station]['PM2.5'] = dfs[station]['PM2.5'].astype('int')"
   ]
  },
  {
   "cell_type": "markdown",
   "metadata": {},
   "source": [
    "## Add feature"
   ]
  },
  {
   "cell_type": "code",
   "execution_count": 16,
   "metadata": {},
   "outputs": [],
   "source": [
    "for station in stations:\n",
    "    dfs[station]['Weekcos'] = np.cos(2 * np.pi * (dfs[station].index.month -1) /11)\n",
    "    dfs[station]['Weeksin'] = np.sin(2 * np.pi * (dfs[station].index.month -1) /11)"
   ]
  },
  {
   "cell_type": "markdown",
   "metadata": {},
   "source": [
    "## Add timestep"
   ]
  },
  {
   "cell_type": "code",
   "execution_count": 17,
   "metadata": {},
   "outputs": [],
   "source": [
    "def add_timestep(df, timestep):\n",
    "    xs = []\n",
    "    ys = []\n",
    "    for i in range(df.shape[0]-timestep-1):\n",
    "        x = df.iloc[i:i+timestep, :].to_numpy()\n",
    "        y = df.iloc[i+timestep, 0]\n",
    "        xs.append(x.astype(np.float32))\n",
    "        ys.append(y.astype(np.float32))\n",
    "    return xs, ys"
   ]
  },
  {
   "cell_type": "code",
   "execution_count": 18,
   "metadata": {},
   "outputs": [],
   "source": [
    "xs, ys = add_timestep(dfs['76t'], 12)"
   ]
  },
  {
   "cell_type": "code",
   "execution_count": 19,
   "metadata": {},
   "outputs": [],
   "source": [
    "class PMDataset(Dataset): \n",
    "  def __init__(self, xs, ys):\n",
    "    self.xs = np.array(xs)\n",
    "    self.ys = np.array(ys).reshape(-1,1)\n",
    "  \n",
    "  def __len__(self):\n",
    "    return len(self.xs)\n",
    "  \n",
    "  def __getitem__(self, idx): \n",
    "    x = self.xs[idx]\n",
    "    y = self.ys[idx]\n",
    "    return x, y"
   ]
  },
  {
   "cell_type": "code",
   "execution_count": 20,
   "metadata": {},
   "outputs": [],
   "source": [
    "xs, ys = add_timestep(dfs['76t'], 12)\n",
    "dataset = PMDataset(xs, ys)"
   ]
  },
  {
   "cell_type": "code",
   "execution_count": 21,
   "metadata": {},
   "outputs": [],
   "source": [
    "def df_to_dataset(df, timestep, batch_size):\n",
    "    xs, ys = add_timestep(df, timestep)\n",
    "    dataset = PMDataset(xs, ys)\n",
    "    return DataLoader(dataset, batch_size, shuffle=False, pin_memory=True)"
   ]
  },
  {
   "cell_type": "code",
   "execution_count": 22,
   "metadata": {},
   "outputs": [],
   "source": [
    "train_dataloaders = {}\n",
    "val_dataloaders = {}\n",
    "test_dataloaders = {}\n",
    "time_step = 12\n",
    "batch_size = 32\n",
    "for station in stations:\n",
    "    temp = dfs[station]\n",
    "    train = temp[temp.index < '2019-06-01']\n",
    "    val = temp[('2019-06-01' <= temp.index) & (temp.index < '2020-06-01')]\n",
    "    test = temp[temp.index >= '2020-06-01']\n",
    "    train_dataloaders[station] = df_to_dataset(train, time_step, batch_size)\n",
    "    val_dataloaders[station] = df_to_dataset(val, time_step, batch_size)\n",
    "    test_dataloaders[station] = df_to_dataset(test, time_step, batch_size)\n"
   ]
  },
  {
   "cell_type": "code",
   "execution_count": 23,
   "metadata": {},
   "outputs": [
    {
     "name": "stdout",
     "output_type": "stream",
     "text": [
      "torch.FloatTensor\n",
      "torch.FloatTensor\n",
      "torch.Size([32, 12, 3])\n",
      "torch.Size([32, 1])\n"
     ]
    }
   ],
   "source": [
    "for x, y in train_dataloaders['76t']:\n",
    "    print(x.type())\n",
    "    print(y.type())\n",
    "    print(x.shape)\n",
    "    print(y.shape)\n",
    "    break"
   ]
  },
  {
   "cell_type": "markdown",
   "metadata": {},
   "source": [
    "# Model"
   ]
  },
  {
   "cell_type": "markdown",
   "metadata": {},
   "source": [
    "## Initialize model"
   ]
  },
  {
   "cell_type": "code",
   "execution_count": 24,
   "metadata": {},
   "outputs": [],
   "source": [
    "device = \"cuda\" if torch.cuda.is_available() else \"cpu\""
   ]
  },
  {
   "cell_type": "code",
   "execution_count": 25,
   "metadata": {},
   "outputs": [],
   "source": [
    "class PMModel(nn.Module):\n",
    "    def __init__(self, input_dim, hidden_dim, n_layers, drop_prob=0.2):\n",
    "        super().__init__()\n",
    "        \n",
    "        self.hidden_dim = hidden_dim\n",
    "        self.n_layers = n_layers\n",
    "\n",
    "        self.gru = nn.GRU(input_dim, hidden_dim, n_layers, batch_first=True, dropout=drop_prob)\n",
    "        self.fc = nn.Linear(hidden_dim, 1)\n",
    "        self.relu = nn.ReLU()\n",
    "\n",
    "    def forward(self, x):\n",
    "        h = torch.zeros(size=(self.n_layers, len(x), self.hidden_dim)).cuda()\n",
    "        y, _ = self.gru(x, h)\n",
    "        y = self.fc(y[:, -1])\n",
    "        y = self.relu(y)\n",
    "        return y\n"
   ]
  },
  {
   "cell_type": "code",
   "execution_count": 26,
   "metadata": {},
   "outputs": [],
   "source": [
    "input_dim = dfs['76t'].shape[1]\n",
    "hidden_dim = 512\n",
    "n_layers = 5\n",
    "\n",
    "pm_model = PMModel(input_dim, hidden_dim, n_layers)\n",
    "pm_model = pm_model.to(device)"
   ]
  },
  {
   "cell_type": "code",
   "execution_count": 27,
   "metadata": {},
   "outputs": [
    {
     "data": {
      "text/plain": [
       "==========================================================================================\n",
       "Layer (type:depth-idx)                   Output Shape              Param #\n",
       "==========================================================================================\n",
       "PMModel                                  --                        --\n",
       "├─GRU: 1-1                               [32, 12, 512]             7,097,856\n",
       "├─Linear: 1-2                            [32, 1]                   513\n",
       "├─ReLU: 1-3                              [32, 1]                   --\n",
       "==========================================================================================\n",
       "Total params: 7,098,369\n",
       "Trainable params: 7,098,369\n",
       "Non-trainable params: 0\n",
       "Total mult-adds (G): 2.73\n",
       "==========================================================================================\n",
       "Input size (MB): 0.00\n",
       "Forward/backward pass size (MB): 1.57\n",
       "Params size (MB): 28.39\n",
       "Estimated Total Size (MB): 29.97\n",
       "=========================================================================================="
      ]
     },
     "execution_count": 27,
     "metadata": {},
     "output_type": "execute_result"
    }
   ],
   "source": [
    "temp_time_step = 12\n",
    "summary(pm_model, input_size=(batch_size,temp_time_step,input_dim))"
   ]
  },
  {
   "cell_type": "code",
   "execution_count": 28,
   "metadata": {},
   "outputs": [],
   "source": [
    "criterion = nn.MSELoss()\n",
    "optimizer = optim.Adam(pm_model.parameters(), lr=5e-5)\n",
    "scheduler = optim.lr_scheduler.ReduceLROnPlateau(optimizer, 'min', patience=4, factor=0.1, min_lr=1e-8)"
   ]
  },
  {
   "cell_type": "markdown",
   "metadata": {},
   "source": [
    "## Training"
   ]
  },
  {
   "cell_type": "code",
   "execution_count": 29,
   "metadata": {},
   "outputs": [
    {
     "data": {
      "application/vnd.jupyter.widget-view+json": {
       "model_id": "6e0caa67b9a04509a3d9afdac9362836",
       "version_major": 2,
       "version_minor": 0
      },
      "text/plain": [
       "  0%|          | 0/20 [00:00<?, ?it/s]"
      ]
     },
     "metadata": {},
     "output_type": "display_data"
    },
    {
     "name": "stdout",
     "output_type": "stream",
     "text": [
      "Epoch 1 - Train loss = 624.0183 - Val loss = 703.5158 - best min_val_loss = 703.5158 - lr = 0.00005000\n",
      "Epoch 2 - Train loss = 597.0691 - Val loss = 463.2868 - best min_val_loss = 463.2868 - lr = 0.00005000\n",
      "Epoch 3 - Train loss = 328.1723 - Val loss = 337.1738 - best min_val_loss = 337.1738 - lr = 0.00005000\n",
      "Epoch 4 - Train loss = 258.9071 - Val loss = 260.0247 - best min_val_loss = 260.0247 - lr = 0.00005000\n",
      "Epoch 5 - Train loss = 214.8470 - Val loss = 207.9218 - best min_val_loss = 207.9218 - lr = 0.00005000\n",
      "Epoch 6 - Train loss = 184.9727 - Val loss = 172.7352 - best min_val_loss = 172.7352 - lr = 0.00005000\n",
      "Epoch 7 - Train loss = 163.7462 - Val loss = 149.2818 - best min_val_loss = 149.2818 - lr = 0.00005000\n",
      "Epoch 8 - Train loss = 147.9592 - Val loss = 133.0853 - best min_val_loss = 133.0853 - lr = 0.00005000\n",
      "Epoch 9 - Train loss = 136.6510 - Val loss = 120.2605 - best min_val_loss = 120.2605 - lr = 0.00005000\n",
      "Epoch 10 - Train loss = 127.9217 - Val loss = 107.7657 - best min_val_loss = 107.7657 - lr = 0.00005000\n",
      "Epoch 11 - Train loss = 120.7079 - Val loss = 97.7116 - best min_val_loss = 97.7116 - lr = 0.00005000\n",
      "Epoch 12 - Train loss = 114.9781 - Val loss = 91.2843 - best min_val_loss = 91.2843 - lr = 0.00005000\n",
      "Epoch 13 - Train loss = 110.2076 - Val loss = 87.0551 - best min_val_loss = 87.0551 - lr = 0.00005000\n",
      "Epoch 14 - Train loss = 106.1840 - Val loss = 81.4033 - best min_val_loss = 81.4033 - lr = 0.00005000\n",
      "Epoch 15 - Train loss = 102.7814 - Val loss = 78.0137 - best min_val_loss = 78.0137 - lr = 0.00005000\n",
      "Epoch 16 - Train loss = 100.4720 - Val loss = 75.3659 - best min_val_loss = 75.3659 - lr = 0.00005000\n",
      "Epoch 17 - Train loss = 98.1017 - Val loss = 73.2261 - best min_val_loss = 73.2261 - lr = 0.00005000\n",
      "Epoch 18 - Train loss = 95.7836 - Val loss = 70.4098 - best min_val_loss = 70.4098 - lr = 0.00005000\n",
      "Epoch 19 - Train loss = 94.1373 - Val loss = 69.3877 - best min_val_loss = 69.3877 - lr = 0.00005000\n",
      "Epoch 20 - Train loss = 93.1958 - Val loss = 68.4061 - best min_val_loss = 68.4061 - lr = 0.00005000\n"
     ]
    }
   ],
   "source": [
    "num_epochs = 20\n",
    "\n",
    "train_losses = []\n",
    "val_losses = []\n",
    "min_val_loss = float('inf')\n",
    "\n",
    "os.makedirs('weights', exist_ok=True)\n",
    "best_weights_path = 'weights/best_weights.pth'\n",
    "\n",
    "station = '76t'\n",
    "\n",
    "for epoch in tqdm(range(num_epochs)):\n",
    "    pm_model.train()\n",
    "    total_train_loss = 0\n",
    "\n",
    "    for x, y in train_dataloaders[station]:\n",
    "        x = x.type(torch.FloatTensor).to(device)\n",
    "        y = y.type(torch.FloatTensor).to(device)\n",
    "        pm_model.zero_grad()\n",
    "\n",
    "        out = pm_model(x)\n",
    "        train_loss = criterion(out, y)\n",
    "        train_loss.backward()\n",
    "        optimizer.step()\n",
    "\n",
    "        total_train_loss += train_loss.item()\n",
    "\n",
    "    current_train_loss = total_train_loss / len(train_dataloaders[station])\n",
    "    train_losses.append(current_train_loss)\n",
    "\n",
    "    total_val_loss = 0\n",
    "    pm_model.eval()\n",
    "    with torch.no_grad():\n",
    "        for val_x, val_y in val_dataloaders[station]:\n",
    "            val_x = val_x.to(device)\n",
    "            val_y = val_y.to(device)\n",
    "            val_out = pm_model(val_x)\n",
    "\n",
    "            val_loss = criterion(val_out, val_y)\n",
    "            total_val_loss += val_loss.item()\n",
    "\n",
    "    current_val_loss = total_val_loss / len(val_dataloaders[station])\n",
    "    val_losses.append(current_val_loss)\n",
    "    if current_val_loss < min_val_loss: \n",
    "        min_val_loss = current_val_loss \n",
    "        torch.save(pm_model.state_dict(), best_weights_path)\n",
    "    print(f'Epoch {epoch+1} - Train loss = {current_train_loss:.4f} - Val loss = {current_val_loss:.4f} - best min_val_loss = {min_val_loss:.4f} - lr = {optimizer.param_groups[0][\"lr\"]:.8f}') \n",
    "    scheduler.step(current_val_loss)"
   ]
  },
  {
   "cell_type": "code",
   "execution_count": 30,
   "metadata": {},
   "outputs": [
    {
     "data": {
      "image/png": "[encoded data removed]",
      "text/plain": [
       "<Figure size 432x288 with 1 Axes>"
      ]
     },
     "metadata": {},
     "output_type": "display_data"
    }
   ],
   "source": [
    "plt.plot(train_losses)\n",
    "plt.show()"
   ]
  },
  {
   "cell_type": "code",
   "execution_count": 31,
   "metadata": {},
   "outputs": [
    {
     "data": {
      "image/png": "[encoded data removed]",
      "text/plain": [
       "<Figure size 432x288 with 1 Axes>"
      ]
     },
     "metadata": {},
     "output_type": "display_data"
    }
   ],
   "source": [
    "plt.plot(val_losses)\n",
    "plt.show()"
   ]
  },
  {
   "cell_type": "markdown",
   "metadata": {},
   "source": [
    "## Evaluate"
   ]
  },
  {
   "cell_type": "code",
   "execution_count": 42,
   "metadata": {},
   "outputs": [],
   "source": [
    "pm_model.eval()\n",
    "y_preds = np.array([])\n",
    "y_true = np.array([])\n",
    "with torch.no_grad():\n",
    "    for x, y in test_dataloaders[station]:\n",
    "        x = x.to(device)\n",
    "        y_pred = pm_model(x)\n",
    "        y_preds = np.concatenate((y_preds, y_pred.detach().cpu().numpy().flatten()))\n",
    "        y_true = np.concatenate((y_true, y.numpy().flatten()))\n"
   ]
  },
  {
   "cell_type": "code",
   "execution_count": 46,
   "metadata": {},
   "outputs": [
    {
     "data": {
      "text/plain": [
       "4.392443377781591"
      ]
     },
     "execution_count": 46,
     "metadata": {},
     "output_type": "execute_result"
    }
   ],
   "source": [
    "np.sqrt(mean_squared_error(y_true, y_preds))"
   ]
  },
  {
   "cell_type": "code",
   "execution_count": 50,
   "metadata": {},
   "outputs": [
    {
     "data": {
      "image/png": "[encoded data removed]",
      "text/plain": [
       "<Figure size 1440x720 with 1 Axes>"
      ]
     },
     "metadata": {},
     "output_type": "display_data"
    }
   ],
   "source": [
    "plt.figure(figsize=(20,10))\n",
    "x = np.arange(0, len(y_true))\n",
    "plt.plot(x, y_true, label='true')\n",
    "plt.plot(x, y_preds, label='pred')\n",
    "plt.legend()\n",
    "plt.show()"
   ]
  }
 ],
 "metadata": {
  "interpreter": {
   "hash": "851ad3827ade15f126283b8c8042c69c5b9ec84b281d2cf20f82bb0ef051bf16"
  },
  "kernelspec": {
   "display_name": "Python 3.8.11 ('CEM')",
   "language": "python",
   "name": "python3"
  },
  "language_info": {
   "codemirror_mode": {
    "name": "ipython",
    "version": 3
   },
   "file_extension": ".py",
   "mimetype": "text/x-python",
   "name": "python",
   "nbconvert_exporter": "python",
   "pygments_lexer": "ipython3",
   "version": "3.8.11"
  },
  "orig_nbformat": 4
 },
 "nbformat": 4,
 "nbformat_minor": 2
}
