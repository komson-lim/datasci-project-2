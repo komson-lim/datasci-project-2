{
 "cells": [
  {
   "cell_type": "code",
   "execution_count": 1,
   "metadata": {},
   "outputs": [],
   "source": [
    "# Import libs\n",
    "import pandas as pd \n",
    "import matplotlib.pyplot as plt \n",
    "import numpy as np \n",
    "import os \n",
    "from tqdm.notebook import tqdm \n",
    "\n",
    "import torch \n",
    "from torch import nn \n",
    "import torch.nn.functional as F \n",
    "from torch import optim \n",
    "from torch.utils.data import Dataset, DataLoader\n",
    "from torchinfo import summary\n",
    "\n",
    "from sklearn.metrics import mean_squared_error\n",
    "import datetime"
   ]
  },
  {
   "cell_type": "markdown",
   "metadata": {},
   "source": [
    "# Data preparation"
   ]
  },
  {
   "cell_type": "markdown",
   "metadata": {},
   "source": [
    "## Combine 2 datasets together"
   ]
  },
  {
   "cell_type": "code",
   "execution_count": 2,
   "metadata": {},
   "outputs": [],
   "source": [
    "stations = ['76t', '36t', '75t']"
   ]
  },
  {
   "cell_type": "code",
   "execution_count": 3,
   "metadata": {},
   "outputs": [],
   "source": [
    "station_to_file = {\n",
    "    '76t': 'data/PCD Data/Data before 2020-9/(76t)ศูนย์การศึกษานอกโรงเรียน จ.ตาก.xlsx',\n",
    "    '36t': 'data/PCD Data/Data before 2020-9/เชียงใหม่/(36t)โรงเรียนยุพราชวิทยาลัย.xlsx',\n",
    "    '75t': 'data/PCD Data/Data before 2020-9/น่าน/(75t)โรงพยาบาลเฉลิมพระเกียรติ จ.น่าน.xlsx'\n",
    "    }\n",
    "sheets = {\n",
    "    '76t': 0,\n",
    "    '36t': 2,\n",
    "    '75t': 1\n",
    "}"
   ]
  },
  {
   "cell_type": "code",
   "execution_count": 4,
   "metadata": {},
   "outputs": [],
   "source": [
    "dfs1 = {}\n",
    "for station in stations:\n",
    "    dfs1[station] = pd.read_excel(station_to_file[station], sheet_name=sheets[station])"
   ]
  },
  {
   "cell_type": "code",
   "execution_count": 5,
   "metadata": {},
   "outputs": [
    {
     "data": {
      "text/html": [
       "<div>\n",
       "<style scoped>\n",
       "    .dataframe tbody tr th:only-of-type {\n",
       "        vertical-align: middle;\n",
       "    }\n",
       "\n",
       "    .dataframe tbody tr th {\n",
       "        vertical-align: top;\n",
       "    }\n",
       "\n",
       "    .dataframe thead th {\n",
       "        text-align: right;\n",
       "    }\n",
       "</style>\n",
       "<table border=\"1\" class=\"dataframe\">\n",
       "  <thead>\n",
       "    <tr style=\"text-align: right;\">\n",
       "      <th></th>\n",
       "      <th>ปี/เดือน/วัน</th>\n",
       "      <th>ชั่วโมง</th>\n",
       "      <th>CO</th>\n",
       "      <th>NO2</th>\n",
       "      <th>SO2</th>\n",
       "      <th>O3</th>\n",
       "      <th>PM2.5</th>\n",
       "      <th>PM10</th>\n",
       "      <th>WS</th>\n",
       "      <th>WD</th>\n",
       "      <th>TEMP</th>\n",
       "      <th>RH</th>\n",
       "    </tr>\n",
       "  </thead>\n",
       "  <tbody>\n",
       "    <tr>\n",
       "      <th>0</th>\n",
       "      <td>NaN</td>\n",
       "      <td>NaN</td>\n",
       "      <td>at 3 m (ppm)</td>\n",
       "      <td>at 3 m (ppb)</td>\n",
       "      <td>at 3 m (ppb)</td>\n",
       "      <td>at 3 m (ppb)</td>\n",
       "      <td>at 3 m (มคก./ลบ.ม.)</td>\n",
       "      <td>at 3 m (มคก./ลบ.ม.)</td>\n",
       "      <td>at 10 m (m/s)</td>\n",
       "      <td>at 10 m (Deg.M)</td>\n",
       "      <td>at 3 m</td>\n",
       "      <td>at 3 m (%RH)</td>\n",
       "    </tr>\n",
       "    <tr>\n",
       "      <th>1</th>\n",
       "      <td>160101.0</td>\n",
       "      <td>100.0</td>\n",
       "      <td>0</td>\n",
       "      <td>0</td>\n",
       "      <td>1</td>\n",
       "      <td>0</td>\n",
       "      <td>9</td>\n",
       "      <td>16</td>\n",
       "      <td>0.2</td>\n",
       "      <td>299</td>\n",
       "      <td>16</td>\n",
       "      <td>98</td>\n",
       "    </tr>\n",
       "    <tr>\n",
       "      <th>2</th>\n",
       "      <td>160101.0</td>\n",
       "      <td>200.0</td>\n",
       "      <td>0</td>\n",
       "      <td>0</td>\n",
       "      <td>1</td>\n",
       "      <td>0</td>\n",
       "      <td>9</td>\n",
       "      <td>17</td>\n",
       "      <td>0.2</td>\n",
       "      <td>276</td>\n",
       "      <td>15.8</td>\n",
       "      <td>99</td>\n",
       "    </tr>\n",
       "    <tr>\n",
       "      <th>3</th>\n",
       "      <td>160101.0</td>\n",
       "      <td>300.0</td>\n",
       "      <td>0</td>\n",
       "      <td>0</td>\n",
       "      <td>1</td>\n",
       "      <td>1</td>\n",
       "      <td>9</td>\n",
       "      <td>14</td>\n",
       "      <td>0.3</td>\n",
       "      <td>325</td>\n",
       "      <td>16.2</td>\n",
       "      <td>99</td>\n",
       "    </tr>\n",
       "    <tr>\n",
       "      <th>4</th>\n",
       "      <td>160101.0</td>\n",
       "      <td>400.0</td>\n",
       "      <td>0</td>\n",
       "      <td>0</td>\n",
       "      <td>0</td>\n",
       "      <td>2</td>\n",
       "      <td>10</td>\n",
       "      <td>13</td>\n",
       "      <td>0.2</td>\n",
       "      <td>224</td>\n",
       "      <td>15.9</td>\n",
       "      <td>100</td>\n",
       "    </tr>\n",
       "  </tbody>\n",
       "</table>\n",
       "</div>"
      ],
      "text/plain": [
       "   ปี/เดือน/วัน  ชั่วโมง            CO           NO2           SO2  \\\n",
       "0           NaN      NaN  at 3 m (ppm)  at 3 m (ppb)  at 3 m (ppb)   \n",
       "1      160101.0    100.0             0             0             1   \n",
       "2      160101.0    200.0             0             0             1   \n",
       "3      160101.0    300.0             0             0             1   \n",
       "4      160101.0    400.0             0             0             0   \n",
       "\n",
       "             O3                PM2.5                 PM10             WS  \\\n",
       "0  at 3 m (ppb)  at 3 m (มคก./ลบ.ม.)  at 3 m (มคก./ลบ.ม.)  at 10 m (m/s)   \n",
       "1             0                    9                   16            0.2   \n",
       "2             0                    9                   17            0.2   \n",
       "3             1                    9                   14            0.3   \n",
       "4             2                   10                   13            0.2   \n",
       "\n",
       "                WD    TEMP            RH  \n",
       "0  at 10 m (Deg.M)  at 3 m  at 3 m (%RH)  \n",
       "1              299      16            98  \n",
       "2              276    15.8            99  \n",
       "3              325    16.2            99  \n",
       "4              224    15.9           100  "
      ]
     },
     "execution_count": 5,
     "metadata": {},
     "output_type": "execute_result"
    }
   ],
   "source": [
    "dfs1['75t'].head()"
   ]
  },
  {
   "cell_type": "code",
   "execution_count": 6,
   "metadata": {},
   "outputs": [
    {
     "name": "stdout",
     "output_type": "stream",
     "text": [
      "<class 'pandas.core.frame.DataFrame'>\n",
      "RangeIndex: 41641 entries, 0 to 41640\n",
      "Data columns (total 12 columns):\n",
      " #   Column        Non-Null Count  Dtype  \n",
      "---  ------        --------------  -----  \n",
      " 0   ปี/เดือน/วัน  41640 non-null  float64\n",
      " 1   ชั่วโมง       41640 non-null  float64\n",
      " 2   CO            38372 non-null  object \n",
      " 3   NO2           41030 non-null  object \n",
      " 4   SO2           41023 non-null  object \n",
      " 5   O3            39381 non-null  object \n",
      " 6   PM2.5         40700 non-null  object \n",
      " 7   PM10          41430 non-null  object \n",
      " 8   WS            41472 non-null  object \n",
      " 9   WD            41473 non-null  object \n",
      " 10  TEMP          41473 non-null  object \n",
      " 11  RH            41473 non-null  object \n",
      "dtypes: float64(2), object(10)\n",
      "memory usage: 3.8+ MB\n"
     ]
    }
   ],
   "source": [
    "dfs1['75t'].info()"
   ]
  },
  {
   "cell_type": "code",
   "execution_count": 7,
   "metadata": {},
   "outputs": [],
   "source": [
    "def process_data_before(df):\n",
    "    df = df.iloc[1:,:]\n",
    "    df = df.rename(columns=lambda x: x.strip())\n",
    "    df = df.loc[:, df.columns.isin(['PM2.5', 'ปี/เดือน/วัน', 'ชั่วโมง'])]\n",
    "    df['Date'] = pd.to_datetime(df['ปี/เดือน/วัน'], format='%y%m%d')\n",
    "    df['ชั่วโมง'] = df['ชั่วโมง'].apply(lambda x: 0 if int(x) == 2400 else x)\n",
    "    df.loc[df['ชั่วโมง'] == 0, 'Date'] += datetime.timedelta(days=1)\n",
    "    df['Time'] = df['ชั่วโมง'].astype('str')\n",
    "    df['Time'] = df['Time'].apply(lambda x: x[:-2].zfill(4))\n",
    "    df['Datetime'] = pd.to_datetime(df['Date'].astype('str') + ' ' +df['Time'], format='%Y-%m-%d %H%M')\n",
    "    df = df.drop(['Time', 'Date', 'ปี/เดือน/วัน', 'ชั่วโมง'], axis=1)\n",
    "    df = df.set_index('Datetime').sort_index()\n",
    "    df = df[df.index < '2020-07-20 19:00:00']\n",
    "    df = df[df.index > '2016-06-01 00:00:00']\n",
    "    df['PM2.5'] = df['PM2.5'].replace('-', np.nan)\n",
    "    return df"
   ]
  },
  {
   "cell_type": "code",
   "execution_count": 8,
   "metadata": {},
   "outputs": [
    {
     "data": {
      "text/html": [
       "<div>\n",
       "<style scoped>\n",
       "    .dataframe tbody tr th:only-of-type {\n",
       "        vertical-align: middle;\n",
       "    }\n",
       "\n",
       "    .dataframe tbody tr th {\n",
       "        vertical-align: top;\n",
       "    }\n",
       "\n",
       "    .dataframe thead th {\n",
       "        text-align: right;\n",
       "    }\n",
       "</style>\n",
       "<table border=\"1\" class=\"dataframe\">\n",
       "  <thead>\n",
       "    <tr style=\"text-align: right;\">\n",
       "      <th></th>\n",
       "      <th>PM2.5</th>\n",
       "    </tr>\n",
       "    <tr>\n",
       "      <th>Datetime</th>\n",
       "      <th></th>\n",
       "    </tr>\n",
       "  </thead>\n",
       "  <tbody>\n",
       "    <tr>\n",
       "      <th>2016-06-01 01:00:00</th>\n",
       "      <td>3.0</td>\n",
       "    </tr>\n",
       "    <tr>\n",
       "      <th>2016-06-01 02:00:00</th>\n",
       "      <td>NaN</td>\n",
       "    </tr>\n",
       "    <tr>\n",
       "      <th>2016-06-01 03:00:00</th>\n",
       "      <td>NaN</td>\n",
       "    </tr>\n",
       "    <tr>\n",
       "      <th>2016-06-01 04:00:00</th>\n",
       "      <td>NaN</td>\n",
       "    </tr>\n",
       "    <tr>\n",
       "      <th>2016-06-01 05:00:00</th>\n",
       "      <td>2.0</td>\n",
       "    </tr>\n",
       "  </tbody>\n",
       "</table>\n",
       "</div>"
      ],
      "text/plain": [
       "                     PM2.5\n",
       "Datetime                  \n",
       "2016-06-01 01:00:00    3.0\n",
       "2016-06-01 02:00:00    NaN\n",
       "2016-06-01 03:00:00    NaN\n",
       "2016-06-01 04:00:00    NaN\n",
       "2016-06-01 05:00:00    2.0"
      ]
     },
     "execution_count": 8,
     "metadata": {},
     "output_type": "execute_result"
    }
   ],
   "source": [
    "process_data_before(dfs1['75t']).head()"
   ]
  },
  {
   "cell_type": "code",
   "execution_count": 9,
   "metadata": {},
   "outputs": [],
   "source": [
    "df2 = pd.read_csv('data/PCD Data/Data after 2020-7/PCD data after 2020-7.csv')"
   ]
  },
  {
   "cell_type": "code",
   "execution_count": 10,
   "metadata": {},
   "outputs": [],
   "source": [
    "dfs2 = {}\n",
    "for station in stations:\n",
    "    dfs2[station] = df2[df2['stationID'] == station]"
   ]
  },
  {
   "cell_type": "code",
   "execution_count": 11,
   "metadata": {},
   "outputs": [
    {
     "data": {
      "text/html": [
       "<div>\n",
       "<style scoped>\n",
       "    .dataframe tbody tr th:only-of-type {\n",
       "        vertical-align: middle;\n",
       "    }\n",
       "\n",
       "    .dataframe tbody tr th {\n",
       "        vertical-align: top;\n",
       "    }\n",
       "\n",
       "    .dataframe thead th {\n",
       "        text-align: right;\n",
       "    }\n",
       "</style>\n",
       "<table border=\"1\" class=\"dataframe\">\n",
       "  <thead>\n",
       "    <tr style=\"text-align: right;\">\n",
       "      <th></th>\n",
       "      <th>id</th>\n",
       "      <th>stationID</th>\n",
       "      <th>nameTH</th>\n",
       "      <th>nameEN</th>\n",
       "      <th>stationType</th>\n",
       "      <th>lat</th>\n",
       "      <th>long</th>\n",
       "      <th>date_aq</th>\n",
       "      <th>time_aq</th>\n",
       "      <th>PM25</th>\n",
       "      <th>PM10</th>\n",
       "      <th>NO2</th>\n",
       "      <th>SO2</th>\n",
       "      <th>CO</th>\n",
       "      <th>O3</th>\n",
       "      <th>AQI</th>\n",
       "      <th>areaTH</th>\n",
       "      <th>areaEN</th>\n",
       "      <th>datetime_aq</th>\n",
       "    </tr>\n",
       "  </thead>\n",
       "  <tbody>\n",
       "    <tr>\n",
       "      <th>10</th>\n",
       "      <td>515464</td>\n",
       "      <td>75t</td>\n",
       "      <td>โรงพยาบาลเฉลิมพระเกียรติ</td>\n",
       "      <td>Chalermprakiet Hospital</td>\n",
       "      <td>GROUND</td>\n",
       "      <td>19.32238</td>\n",
       "      <td>101.025365</td>\n",
       "      <td>2020-07-20</td>\n",
       "      <td>21:00:00</td>\n",
       "      <td>6.0</td>\n",
       "      <td>19.0</td>\n",
       "      <td>3.0</td>\n",
       "      <td>NaN</td>\n",
       "      <td>NaN</td>\n",
       "      <td>NaN</td>\n",
       "      <td>1</td>\n",
       "      <td>ต.ห้วยโก๋น อ.เฉลิมพระเกียรติ, น่าน</td>\n",
       "      <td>Huai Kon, Chaloem Phra Kiat, Nan</td>\n",
       "      <td>2020-07-20 21:00:00.000</td>\n",
       "    </tr>\n",
       "    <tr>\n",
       "      <th>97</th>\n",
       "      <td>515593</td>\n",
       "      <td>75t</td>\n",
       "      <td>โรงพยาบาลเฉลิมพระเกียรติ</td>\n",
       "      <td>Chalermprakiet Hospital</td>\n",
       "      <td>GROUND</td>\n",
       "      <td>19.32238</td>\n",
       "      <td>101.025365</td>\n",
       "      <td>2020-07-20</td>\n",
       "      <td>22:00:00</td>\n",
       "      <td>6.0</td>\n",
       "      <td>19.0</td>\n",
       "      <td>2.0</td>\n",
       "      <td>1.0</td>\n",
       "      <td>NaN</td>\n",
       "      <td>NaN</td>\n",
       "      <td>1</td>\n",
       "      <td>ต.ห้วยโก๋น อ.เฉลิมพระเกียรติ, น่าน</td>\n",
       "      <td>Huai Kon, Chaloem Phra Kiat, Nan</td>\n",
       "      <td>2020-07-20 22:00:00.000</td>\n",
       "    </tr>\n",
       "    <tr>\n",
       "      <th>235</th>\n",
       "      <td>515722</td>\n",
       "      <td>75t</td>\n",
       "      <td>โรงพยาบาลเฉลิมพระเกียรติ</td>\n",
       "      <td>Chalermprakiet Hospital</td>\n",
       "      <td>GROUND</td>\n",
       "      <td>19.32238</td>\n",
       "      <td>101.025365</td>\n",
       "      <td>2020-07-20</td>\n",
       "      <td>23:00:00</td>\n",
       "      <td>6.0</td>\n",
       "      <td>19.0</td>\n",
       "      <td>2.0</td>\n",
       "      <td>1.0</td>\n",
       "      <td>NaN</td>\n",
       "      <td>NaN</td>\n",
       "      <td>1</td>\n",
       "      <td>ต.ห้วยโก๋น อ.เฉลิมพระเกียรติ, น่าน</td>\n",
       "      <td>Huai Kon, Chaloem Phra Kiat, Nan</td>\n",
       "      <td>2020-07-20 23:00:00.000</td>\n",
       "    </tr>\n",
       "    <tr>\n",
       "      <th>404</th>\n",
       "      <td>515206</td>\n",
       "      <td>75t</td>\n",
       "      <td>โรงพยาบาลเฉลิมพระเกียรติ</td>\n",
       "      <td>Chalermprakiet Hospital</td>\n",
       "      <td>GROUND</td>\n",
       "      <td>19.32238</td>\n",
       "      <td>101.025365</td>\n",
       "      <td>2020-07-20</td>\n",
       "      <td>19:00:00</td>\n",
       "      <td>6.0</td>\n",
       "      <td>19.0</td>\n",
       "      <td>3.0</td>\n",
       "      <td>1.0</td>\n",
       "      <td>NaN</td>\n",
       "      <td>NaN</td>\n",
       "      <td>1</td>\n",
       "      <td>ต.ห้วยโก๋น อ.เฉลิมพระเกียรติ, น่าน</td>\n",
       "      <td>Huai Kon, Chaloem Phra Kiat, Nan</td>\n",
       "      <td>2020-07-20 19:00:00.000</td>\n",
       "    </tr>\n",
       "    <tr>\n",
       "      <th>522</th>\n",
       "      <td>515335</td>\n",
       "      <td>75t</td>\n",
       "      <td>โรงพยาบาลเฉลิมพระเกียรติ</td>\n",
       "      <td>Chalermprakiet Hospital</td>\n",
       "      <td>GROUND</td>\n",
       "      <td>19.32238</td>\n",
       "      <td>101.025365</td>\n",
       "      <td>2020-07-20</td>\n",
       "      <td>20:00:00</td>\n",
       "      <td>6.0</td>\n",
       "      <td>19.0</td>\n",
       "      <td>5.0</td>\n",
       "      <td>1.0</td>\n",
       "      <td>NaN</td>\n",
       "      <td>NaN</td>\n",
       "      <td>1</td>\n",
       "      <td>ต.ห้วยโก๋น อ.เฉลิมพระเกียรติ, น่าน</td>\n",
       "      <td>Huai Kon, Chaloem Phra Kiat, Nan</td>\n",
       "      <td>2020-07-20 20:00:00.000</td>\n",
       "    </tr>\n",
       "  </tbody>\n",
       "</table>\n",
       "</div>"
      ],
      "text/plain": [
       "         id stationID                     nameTH                   nameEN  \\\n",
       "10   515464       75t  โรงพยาบาลเฉลิมพระเกียรติ   Chalermprakiet Hospital   \n",
       "97   515593       75t  โรงพยาบาลเฉลิมพระเกียรติ   Chalermprakiet Hospital   \n",
       "235  515722       75t  โรงพยาบาลเฉลิมพระเกียรติ   Chalermprakiet Hospital   \n",
       "404  515206       75t  โรงพยาบาลเฉลิมพระเกียรติ   Chalermprakiet Hospital   \n",
       "522  515335       75t  โรงพยาบาลเฉลิมพระเกียรติ   Chalermprakiet Hospital   \n",
       "\n",
       "    stationType       lat        long     date_aq   time_aq  PM25  PM10  NO2  \\\n",
       "10       GROUND  19.32238  101.025365  2020-07-20  21:00:00   6.0  19.0  3.0   \n",
       "97       GROUND  19.32238  101.025365  2020-07-20  22:00:00   6.0  19.0  2.0   \n",
       "235      GROUND  19.32238  101.025365  2020-07-20  23:00:00   6.0  19.0  2.0   \n",
       "404      GROUND  19.32238  101.025365  2020-07-20  19:00:00   6.0  19.0  3.0   \n",
       "522      GROUND  19.32238  101.025365  2020-07-20  20:00:00   6.0  19.0  5.0   \n",
       "\n",
       "     SO2  CO  O3  AQI                              areaTH  \\\n",
       "10   NaN NaN NaN    1  ต.ห้วยโก๋น อ.เฉลิมพระเกียรติ, น่าน   \n",
       "97   1.0 NaN NaN    1  ต.ห้วยโก๋น อ.เฉลิมพระเกียรติ, น่าน   \n",
       "235  1.0 NaN NaN    1  ต.ห้วยโก๋น อ.เฉลิมพระเกียรติ, น่าน   \n",
       "404  1.0 NaN NaN    1  ต.ห้วยโก๋น อ.เฉลิมพระเกียรติ, น่าน   \n",
       "522  1.0 NaN NaN    1  ต.ห้วยโก๋น อ.เฉลิมพระเกียรติ, น่าน   \n",
       "\n",
       "                               areaEN              datetime_aq  \n",
       "10   Huai Kon, Chaloem Phra Kiat, Nan  2020-07-20 21:00:00.000  \n",
       "97   Huai Kon, Chaloem Phra Kiat, Nan  2020-07-20 22:00:00.000  \n",
       "235  Huai Kon, Chaloem Phra Kiat, Nan  2020-07-20 23:00:00.000  \n",
       "404  Huai Kon, Chaloem Phra Kiat, Nan  2020-07-20 19:00:00.000  \n",
       "522  Huai Kon, Chaloem Phra Kiat, Nan  2020-07-20 20:00:00.000  "
      ]
     },
     "execution_count": 11,
     "metadata": {},
     "output_type": "execute_result"
    }
   ],
   "source": [
    "dfs2['75t'].head()"
   ]
  },
  {
   "cell_type": "code",
   "execution_count": 12,
   "metadata": {},
   "outputs": [],
   "source": [
    "def process_data_after(df):\n",
    "    df = df.drop(['id', 'stationID', 'nameTH', 'nameEN', 'stationType', 'lat', 'long', 'date_aq', 'time_aq', 'PM10', 'NO2', 'SO2', 'CO', 'O3', 'AQI','areaTH', 'areaEN'], axis=1)\n",
    "    df['Datetime'] = pd.to_datetime(df['datetime_aq'], format='%Y-%m-%d %H:%M:%S.%f')\n",
    "    df = df.set_index('Datetime').sort_index()\n",
    "    df = df.rename(columns={'PM25': 'PM2.5'})\n",
    "    df = df.drop(['datetime_aq'], axis=1)\n",
    "    return df"
   ]
  },
  {
   "cell_type": "code",
   "execution_count": 13,
   "metadata": {},
   "outputs": [
    {
     "data": {
      "text/html": [
       "<div>\n",
       "<style scoped>\n",
       "    .dataframe tbody tr th:only-of-type {\n",
       "        vertical-align: middle;\n",
       "    }\n",
       "\n",
       "    .dataframe tbody tr th {\n",
       "        vertical-align: top;\n",
       "    }\n",
       "\n",
       "    .dataframe thead th {\n",
       "        text-align: right;\n",
       "    }\n",
       "</style>\n",
       "<table border=\"1\" class=\"dataframe\">\n",
       "  <thead>\n",
       "    <tr style=\"text-align: right;\">\n",
       "      <th></th>\n",
       "      <th>PM2.5</th>\n",
       "    </tr>\n",
       "    <tr>\n",
       "      <th>Datetime</th>\n",
       "      <th></th>\n",
       "    </tr>\n",
       "  </thead>\n",
       "  <tbody>\n",
       "    <tr>\n",
       "      <th>2020-07-20 19:00:00</th>\n",
       "      <td>6.0</td>\n",
       "    </tr>\n",
       "    <tr>\n",
       "      <th>2020-07-20 20:00:00</th>\n",
       "      <td>6.0</td>\n",
       "    </tr>\n",
       "    <tr>\n",
       "      <th>2020-07-20 21:00:00</th>\n",
       "      <td>6.0</td>\n",
       "    </tr>\n",
       "    <tr>\n",
       "      <th>2020-07-20 22:00:00</th>\n",
       "      <td>6.0</td>\n",
       "    </tr>\n",
       "    <tr>\n",
       "      <th>2020-07-20 23:00:00</th>\n",
       "      <td>6.0</td>\n",
       "    </tr>\n",
       "  </tbody>\n",
       "</table>\n",
       "</div>"
      ],
      "text/plain": [
       "                     PM2.5\n",
       "Datetime                  \n",
       "2020-07-20 19:00:00    6.0\n",
       "2020-07-20 20:00:00    6.0\n",
       "2020-07-20 21:00:00    6.0\n",
       "2020-07-20 22:00:00    6.0\n",
       "2020-07-20 23:00:00    6.0"
      ]
     },
     "execution_count": 13,
     "metadata": {},
     "output_type": "execute_result"
    }
   ],
   "source": [
    "process_data_after(dfs2['75t']).head()"
   ]
  },
  {
   "cell_type": "code",
   "execution_count": 14,
   "metadata": {},
   "outputs": [],
   "source": [
    "dfs = {}\n",
    "for station in stations:\n",
    "    dfs[station] = pd.concat((process_data_before(dfs1[station]), process_data_after(dfs2[station])))"
   ]
  },
  {
   "cell_type": "code",
   "execution_count": 15,
   "metadata": {},
   "outputs": [
    {
     "data": {
      "text/html": [
       "<div>\n",
       "<style scoped>\n",
       "    .dataframe tbody tr th:only-of-type {\n",
       "        vertical-align: middle;\n",
       "    }\n",
       "\n",
       "    .dataframe tbody tr th {\n",
       "        vertical-align: top;\n",
       "    }\n",
       "\n",
       "    .dataframe thead th {\n",
       "        text-align: right;\n",
       "    }\n",
       "</style>\n",
       "<table border=\"1\" class=\"dataframe\">\n",
       "  <thead>\n",
       "    <tr style=\"text-align: right;\">\n",
       "      <th></th>\n",
       "      <th>PM2.5</th>\n",
       "    </tr>\n",
       "    <tr>\n",
       "      <th>Datetime</th>\n",
       "      <th></th>\n",
       "    </tr>\n",
       "  </thead>\n",
       "  <tbody>\n",
       "    <tr>\n",
       "      <th>2016-06-01 01:00:00</th>\n",
       "      <td>3.0</td>\n",
       "    </tr>\n",
       "    <tr>\n",
       "      <th>2016-06-01 02:00:00</th>\n",
       "      <td>NaN</td>\n",
       "    </tr>\n",
       "    <tr>\n",
       "      <th>2016-06-01 03:00:00</th>\n",
       "      <td>NaN</td>\n",
       "    </tr>\n",
       "    <tr>\n",
       "      <th>2016-06-01 04:00:00</th>\n",
       "      <td>NaN</td>\n",
       "    </tr>\n",
       "    <tr>\n",
       "      <th>2016-06-01 05:00:00</th>\n",
       "      <td>2.0</td>\n",
       "    </tr>\n",
       "    <tr>\n",
       "      <th>...</th>\n",
       "      <td>...</td>\n",
       "    </tr>\n",
       "    <tr>\n",
       "      <th>2022-01-30 14:00:00</th>\n",
       "      <td>23.0</td>\n",
       "    </tr>\n",
       "    <tr>\n",
       "      <th>2022-01-30 15:00:00</th>\n",
       "      <td>23.0</td>\n",
       "    </tr>\n",
       "    <tr>\n",
       "      <th>2022-01-30 16:00:00</th>\n",
       "      <td>22.0</td>\n",
       "    </tr>\n",
       "    <tr>\n",
       "      <th>2022-01-30 16:00:00</th>\n",
       "      <td>22.0</td>\n",
       "    </tr>\n",
       "    <tr>\n",
       "      <th>2022-01-30 18:00:00</th>\n",
       "      <td>24.0</td>\n",
       "    </tr>\n",
       "  </tbody>\n",
       "</table>\n",
       "<p>48987 rows × 1 columns</p>\n",
       "</div>"
      ],
      "text/plain": [
       "                     PM2.5\n",
       "Datetime                  \n",
       "2016-06-01 01:00:00    3.0\n",
       "2016-06-01 02:00:00    NaN\n",
       "2016-06-01 03:00:00    NaN\n",
       "2016-06-01 04:00:00    NaN\n",
       "2016-06-01 05:00:00    2.0\n",
       "...                    ...\n",
       "2022-01-30 14:00:00   23.0\n",
       "2022-01-30 15:00:00   23.0\n",
       "2022-01-30 16:00:00   22.0\n",
       "2022-01-30 16:00:00   22.0\n",
       "2022-01-30 18:00:00   24.0\n",
       "\n",
       "[48987 rows x 1 columns]"
      ]
     },
     "execution_count": 15,
     "metadata": {},
     "output_type": "execute_result"
    }
   ],
   "source": [
    "dfs['75t']"
   ]
  },
  {
   "cell_type": "markdown",
   "metadata": {},
   "source": [
    "## Impute missing value"
   ]
  },
  {
   "cell_type": "code",
   "execution_count": 16,
   "metadata": {},
   "outputs": [],
   "source": [
    "for station in stations:\n",
    "    dfs[station] = dfs[station].ffill()"
   ]
  },
  {
   "cell_type": "markdown",
   "metadata": {},
   "source": [
    "## Add feature"
   ]
  },
  {
   "cell_type": "code",
   "execution_count": 17,
   "metadata": {},
   "outputs": [],
   "source": [
    "for station in stations:\n",
    "    # dfs[station]['Monthcos'] = np.cos(2 * np.pi * (dfs[station].index.month -1) /11)\n",
    "    # dfs[station]['Monthsin'] = np.sin(2 * np.pi * (dfs[station].index.month -1) /11)\n",
    "\n",
    "    dfs[station]['Hourcos'] = np.cos(2 * np.pi * dfs[station].index.hour/24)\n",
    "    dfs[station]['Hoursin'] = np.sin(2 * np.pi * dfs[station].index.hour/24)\n",
    "\n",
    "    dfs[station]['Weekcos'] = np.cos(2 * np.pi * (dfs[station].index.isocalendar().week - 1)/52)\n",
    "    dfs[station]['Weeksin'] = np.sin(2 * np.pi * (dfs[station].index.isocalendar().week - 1)/52)\n"
   ]
  },
  {
   "cell_type": "markdown",
   "metadata": {},
   "source": [
    "## Add timestep"
   ]
  },
  {
   "cell_type": "code",
   "execution_count": 18,
   "metadata": {},
   "outputs": [],
   "source": [
    "def add_timestep(df, timestep):\n",
    "    xs = []\n",
    "    ys = []\n",
    "    for i in range(df.shape[0]-timestep-1):\n",
    "        x = df.iloc[i:i+timestep, :].to_numpy()\n",
    "        y = df.iloc[i+timestep, 0]\n",
    "        xs.append(x.astype(np.float32))\n",
    "        ys.append(y.astype(np.float32))\n",
    "    return xs, ys"
   ]
  },
  {
   "cell_type": "code",
   "execution_count": 19,
   "metadata": {},
   "outputs": [],
   "source": [
    "class PMDataset(Dataset): \n",
    "  def __init__(self, xs, ys):\n",
    "    self.xs = np.array(xs)\n",
    "    self.ys = np.array(ys).reshape(-1,1)\n",
    "  \n",
    "  def __len__(self):\n",
    "    return len(self.xs)\n",
    "  \n",
    "  def __getitem__(self, idx): \n",
    "    x = self.xs[idx]\n",
    "    y = self.ys[idx]\n",
    "    return x, y"
   ]
  },
  {
   "cell_type": "code",
   "execution_count": 20,
   "metadata": {},
   "outputs": [],
   "source": [
    "def df_to_dataset(df, timestep, batch_size):\n",
    "    xs, ys = add_timestep(df, timestep)\n",
    "    dataset = PMDataset(xs, ys)\n",
    "    return DataLoader(dataset, batch_size, shuffle=False, pin_memory=True)"
   ]
  },
  {
   "cell_type": "code",
   "execution_count": 21,
   "metadata": {},
   "outputs": [],
   "source": [
    "train_dataloaders = {}\n",
    "val_dataloaders = {}\n",
    "test_dataloaders = {}\n",
    "time_step = 24\n",
    "batch_size = 32\n",
    "for station in stations:\n",
    "    temp = dfs[station]\n",
    "    train = temp[temp.index < '2019-06-01']\n",
    "    val = temp[('2019-06-01' <= temp.index) & (temp.index < '2020-06-01')]\n",
    "    test = temp[temp.index >= '2020-06-01']\n",
    "    train_dataloaders[station] = df_to_dataset(train, time_step, batch_size)\n",
    "    val_dataloaders[station] = df_to_dataset(val, time_step, batch_size)\n",
    "    test_dataloaders[station] = df_to_dataset(test, time_step, batch_size)\n"
   ]
  },
  {
   "cell_type": "markdown",
   "metadata": {},
   "source": [
    "# Model"
   ]
  },
  {
   "cell_type": "markdown",
   "metadata": {},
   "source": [
    "## Initialize model"
   ]
  },
  {
   "cell_type": "code",
   "execution_count": 22,
   "metadata": {},
   "outputs": [],
   "source": [
    "device = \"cuda\" if torch.cuda.is_available() else \"cpu\""
   ]
  },
  {
   "cell_type": "code",
   "execution_count": 23,
   "metadata": {},
   "outputs": [],
   "source": [
    "class PMModel(nn.Module):\n",
    "    def __init__(self, input_dim, hidden_dim, n_layers, device, drop_prob=0.2):\n",
    "        super().__init__()\n",
    "        \n",
    "        self.hidden_dim = hidden_dim\n",
    "        self.n_layers = n_layers\n",
    "        self.device = device\n",
    "\n",
    "        self.gru = nn.GRU(input_dim, hidden_dim, n_layers, batch_first=True, dropout=drop_prob)\n",
    "        self.fc = nn.Linear(hidden_dim, 1)\n",
    "        self.relu = nn.ReLU()\n",
    "\n",
    "    def forward(self, x):\n",
    "        h = torch.zeros(size=(self.n_layers, len(x), self.hidden_dim)).to(device)\n",
    "        y, _ = self.gru(x, h)\n",
    "        y = self.fc(y[:, -1])\n",
    "        y = self.relu(y)\n",
    "        return y\n"
   ]
  },
  {
   "cell_type": "code",
   "execution_count": 24,
   "metadata": {},
   "outputs": [],
   "source": [
    "input_dim = dfs['76t'].shape[1]\n",
    "hidden_dim = 512\n",
    "n_layers = 5\n",
    "\n",
    "pm_model = PMModel(input_dim, hidden_dim, n_layers, device)\n",
    "pm_model = pm_model.to(device)"
   ]
  },
  {
   "cell_type": "code",
   "execution_count": 25,
   "metadata": {},
   "outputs": [
    {
     "data": {
      "text/plain": [
       "==========================================================================================\n",
       "Layer (type:depth-idx)                   Output Shape              Param #\n",
       "==========================================================================================\n",
       "PMModel                                  --                        --\n",
       "├─GRU: 1-1                               [32, 12, 512]             7,100,928\n",
       "├─Linear: 1-2                            [32, 1]                   513\n",
       "├─ReLU: 1-3                              [32, 1]                   --\n",
       "==========================================================================================\n",
       "Total params: 7,101,441\n",
       "Trainable params: 7,101,441\n",
       "Non-trainable params: 0\n",
       "Total mult-adds (G): 2.73\n",
       "==========================================================================================\n",
       "Input size (MB): 0.01\n",
       "Forward/backward pass size (MB): 1.57\n",
       "Params size (MB): 28.41\n",
       "Estimated Total Size (MB): 29.99\n",
       "=========================================================================================="
      ]
     },
     "execution_count": 25,
     "metadata": {},
     "output_type": "execute_result"
    }
   ],
   "source": [
    "temp_time_step = 12\n",
    "summary(pm_model, input_size=(batch_size,temp_time_step,input_dim))"
   ]
  },
  {
   "cell_type": "code",
   "execution_count": 26,
   "metadata": {},
   "outputs": [],
   "source": [
    "criterion = nn.MSELoss()\n",
    "optimizer = optim.Adam(pm_model.parameters(), lr=5e-5)\n",
    "scheduler = optim.lr_scheduler.ReduceLROnPlateau(optimizer, 'min', patience=4, factor=0.1, min_lr=1e-8)"
   ]
  },
  {
   "cell_type": "markdown",
   "metadata": {},
   "source": [
    "## Training"
   ]
  },
  {
   "cell_type": "code",
   "execution_count": 27,
   "metadata": {},
   "outputs": [],
   "source": [
    "station = '75t'"
   ]
  },
  {
   "cell_type": "code",
   "execution_count": 27,
   "metadata": {},
   "outputs": [
    {
     "data": {
      "application/vnd.jupyter.widget-view+json": {
       "model_id": "51c70eaf6af24a198485cd156400d511",
       "version_major": 2,
       "version_minor": 0
      },
      "text/plain": [
       "  0%|          | 0/25 [00:00<?, ?it/s]"
      ]
     },
     "metadata": {},
     "output_type": "display_data"
    },
    {
     "name": "stdout",
     "output_type": "stream",
     "text": [
      "Epoch 1 - Train loss = 672.4648 - Val loss = 1568.5105 - best min_val_loss = 1568.5105 - lr = 0.00005000\n",
      "Epoch 2 - Train loss = 544.6089 - Val loss = 1364.0265 - best min_val_loss = 1364.0265 - lr = 0.00005000\n",
      "Epoch 3 - Train loss = 475.3439 - Val loss = 1250.3844 - best min_val_loss = 1250.3844 - lr = 0.00005000\n",
      "Epoch 4 - Train loss = 425.2002 - Val loss = 1163.1298 - best min_val_loss = 1163.1298 - lr = 0.00005000\n",
      "Epoch 5 - Train loss = 386.8607 - Val loss = 1093.1821 - best min_val_loss = 1093.1821 - lr = 0.00005000\n",
      "Epoch 6 - Train loss = 356.1255 - Val loss = 1035.2488 - best min_val_loss = 1035.2488 - lr = 0.00005000\n",
      "Epoch 7 - Train loss = 330.3906 - Val loss = 987.2362 - best min_val_loss = 987.2362 - lr = 0.00005000\n",
      "Epoch 8 - Train loss = 308.9354 - Val loss = 945.9108 - best min_val_loss = 945.9108 - lr = 0.00005000\n",
      "Epoch 9 - Train loss = 290.5046 - Val loss = 907.6394 - best min_val_loss = 907.6394 - lr = 0.00005000\n",
      "Epoch 10 - Train loss = 274.2485 - Val loss = 873.7011 - best min_val_loss = 873.7011 - lr = 0.00005000\n",
      "Epoch 11 - Train loss = 259.8401 - Val loss = 843.0081 - best min_val_loss = 843.0081 - lr = 0.00005000\n",
      "Epoch 12 - Train loss = 247.3437 - Val loss = 812.7924 - best min_val_loss = 812.7924 - lr = 0.00005000\n",
      "Epoch 13 - Train loss = 235.9843 - Val loss = 788.1689 - best min_val_loss = 788.1689 - lr = 0.00005000\n",
      "Epoch 14 - Train loss = 225.5000 - Val loss = 761.6938 - best min_val_loss = 761.6938 - lr = 0.00005000\n",
      "Epoch 15 - Train loss = 216.3314 - Val loss = 745.5192 - best min_val_loss = 745.5192 - lr = 0.00005000\n",
      "Epoch 16 - Train loss = 207.0290 - Val loss = 720.8658 - best min_val_loss = 720.8658 - lr = 0.00005000\n",
      "Epoch 17 - Train loss = 199.0416 - Val loss = 699.8666 - best min_val_loss = 699.8666 - lr = 0.00005000\n",
      "Epoch 18 - Train loss = 191.4959 - Val loss = 678.1833 - best min_val_loss = 678.1833 - lr = 0.00005000\n",
      "Epoch 19 - Train loss = 184.1916 - Val loss = 658.9415 - best min_val_loss = 658.9415 - lr = 0.00005000\n",
      "Epoch 20 - Train loss = 177.0415 - Val loss = 639.4371 - best min_val_loss = 639.4371 - lr = 0.00005000\n",
      "Epoch 21 - Train loss = 171.0385 - Val loss = 624.9844 - best min_val_loss = 624.9844 - lr = 0.00005000\n",
      "Epoch 22 - Train loss = 164.5104 - Val loss = 609.4881 - best min_val_loss = 609.4881 - lr = 0.00005000\n",
      "Epoch 23 - Train loss = 158.7842 - Val loss = 594.8930 - best min_val_loss = 594.8930 - lr = 0.00005000\n",
      "Epoch 24 - Train loss = 152.9915 - Val loss = 577.4663 - best min_val_loss = 577.4663 - lr = 0.00005000\n",
      "Epoch 25 - Train loss = 148.2365 - Val loss = 562.1714 - best min_val_loss = 562.1714 - lr = 0.00005000\n"
     ]
    }
   ],
   "source": [
    "num_epochs = 25\n",
    "\n",
    "train_losses = []\n",
    "val_losses = []\n",
    "min_val_loss = float('inf')\n",
    "\n",
    "\n",
    "os.makedirs('weights', exist_ok=True)\n",
    "best_weights_path = f'weights/{station}_best_weights.pth'\n",
    "\n",
    "for epoch in tqdm(range(num_epochs)):\n",
    "    pm_model.train()\n",
    "    total_train_loss = 0\n",
    "\n",
    "    for x, y in train_dataloaders[station]:\n",
    "        x = x.type(torch.FloatTensor).to(device)\n",
    "        y = y.type(torch.FloatTensor).to(device)\n",
    "        pm_model.zero_grad()\n",
    "\n",
    "        out = pm_model(x)\n",
    "        train_loss = criterion(out, y)\n",
    "        train_loss.backward()\n",
    "        optimizer.step()\n",
    "\n",
    "        total_train_loss += train_loss.item()\n",
    "\n",
    "    current_train_loss = total_train_loss / len(train_dataloaders[station])\n",
    "    train_losses.append(current_train_loss)\n",
    "\n",
    "    total_val_loss = 0\n",
    "    pm_model.eval()\n",
    "    with torch.no_grad():\n",
    "        for val_x, val_y in val_dataloaders[station]:\n",
    "            val_x = val_x.to(device)\n",
    "            val_y = val_y.to(device)\n",
    "            val_out = pm_model(val_x)\n",
    "\n",
    "            val_loss = criterion(val_out, val_y)\n",
    "            total_val_loss += val_loss.item()\n",
    "\n",
    "    current_val_loss = total_val_loss / len(val_dataloaders[station])\n",
    "    val_losses.append(current_val_loss)\n",
    "    if current_val_loss < min_val_loss: \n",
    "        min_val_loss = current_val_loss \n",
    "        torch.save(pm_model.state_dict(), best_weights_path)\n",
    "    print(f'Epoch {epoch+1} - Train loss = {current_train_loss:.4f} - Val loss = {current_val_loss:.4f} - best min_val_loss = {min_val_loss:.4f} - lr = {optimizer.param_groups[0][\"lr\"]:.8f}') \n",
    "    scheduler.step(current_val_loss)"
   ]
  },
  {
   "cell_type": "code",
   "execution_count": 28,
   "metadata": {},
   "outputs": [
    {
     "data": {
      "image/png": "[encoded data removed]",
      "text/plain": [
       "<Figure size 432x288 with 1 Axes>"
      ]
     },
     "metadata": {},
     "output_type": "display_data"
    }
   ],
   "source": [
    "plt.plot(train_losses)\n",
    "plt.show()"
   ]
  },
  {
   "cell_type": "code",
   "execution_count": 29,
   "metadata": {},
   "outputs": [
    {
     "data": {
      "image/png": "[encoded data removed]",
      "text/plain": [
       "<Figure size 432x288 with 1 Axes>"
      ]
     },
     "metadata": {},
     "output_type": "display_data"
    }
   ],
   "source": [
    "plt.plot(val_losses)\n",
    "plt.show()"
   ]
  },
  {
   "cell_type": "markdown",
   "metadata": {},
   "source": [
    "## Evaluate"
   ]
  },
  {
   "cell_type": "code",
   "execution_count": 28,
   "metadata": {},
   "outputs": [
    {
     "data": {
      "text/plain": [
       "<All keys matched successfully>"
      ]
     },
     "execution_count": 28,
     "metadata": {},
     "output_type": "execute_result"
    }
   ],
   "source": [
    "best_weights_path = f'weights/{station}_best_weights.pth'\n",
    "pm_model.load_state_dict(torch.load(best_weights_path))"
   ]
  },
  {
   "cell_type": "code",
   "execution_count": 29,
   "metadata": {},
   "outputs": [],
   "source": [
    "pm_model.eval()\n",
    "y_preds = np.array([])\n",
    "y_true = np.array([])\n",
    "with torch.no_grad():\n",
    "    for x, y in test_dataloaders[station]:\n",
    "        x = x.to(device)\n",
    "        y_pred = pm_model(x)\n",
    "        y_preds = np.concatenate((y_preds, y_pred.detach().cpu().numpy().flatten()))\n",
    "        y_true = np.concatenate((y_true, y.numpy().flatten()))\n"
   ]
  },
  {
   "cell_type": "code",
   "execution_count": 30,
   "metadata": {},
   "outputs": [
    {
     "data": {
      "text/plain": [
       "3.231630035227534"
      ]
     },
     "execution_count": 30,
     "metadata": {},
     "output_type": "execute_result"
    }
   ],
   "source": [
    "np.sqrt(mean_squared_error(y_true, y_preds))"
   ]
  },
  {
   "cell_type": "code",
   "execution_count": 31,
   "metadata": {},
   "outputs": [
    {
     "data": {
      "image/png": "[encoded data removed]",
      "text/plain": [
       "<Figure size 1440x720 with 1 Axes>"
      ]
     },
     "metadata": {},
     "output_type": "display_data"
    }
   ],
   "source": [
    "plt.figure(figsize=(20,10))\n",
    "x = np.arange(0, len(y_true))\n",
    "plt.plot(x, y_true, label='true')\n",
    "plt.plot(x, y_preds, label='pred')\n",
    "plt.legend()\n",
    "plt.show()"
   ]
  },
  {
   "cell_type": "markdown",
   "metadata": {},
   "source": [
    "## Upload predict data"
   ]
  },
  {
   "cell_type": "code",
   "execution_count": 32,
   "metadata": {},
   "outputs": [],
   "source": [
    "temp = dfs[station]\n",
    "test = temp[temp.index >= '2020-06-01']"
   ]
  },
  {
   "cell_type": "code",
   "execution_count": 36,
   "metadata": {},
   "outputs": [],
   "source": [
    "out_pred_time = pd.DataFrame((test.iloc[25:, :].index))\n",
    "out_pred = pd.concat((out_pred_time, pd.Series(y_preds)), axis=1)\n",
    "out_pred = out_pred.rename({0: 'PM2.5'}, axis=1)"
   ]
  },
  {
   "cell_type": "code",
   "execution_count": 37,
   "metadata": {},
   "outputs": [
    {
     "data": {
      "text/html": [
       "<div>\n",
       "<style scoped>\n",
       "    .dataframe tbody tr th:only-of-type {\n",
       "        vertical-align: middle;\n",
       "    }\n",
       "\n",
       "    .dataframe tbody tr th {\n",
       "        vertical-align: top;\n",
       "    }\n",
       "\n",
       "    .dataframe thead th {\n",
       "        text-align: right;\n",
       "    }\n",
       "</style>\n",
       "<table border=\"1\" class=\"dataframe\">\n",
       "  <thead>\n",
       "    <tr style=\"text-align: right;\">\n",
       "      <th></th>\n",
       "      <th>Datetime</th>\n",
       "      <th>PM2.5</th>\n",
       "    </tr>\n",
       "  </thead>\n",
       "  <tbody>\n",
       "    <tr>\n",
       "      <th>0</th>\n",
       "      <td>2020-06-02 01:00:00</td>\n",
       "      <td>11.120969</td>\n",
       "    </tr>\n",
       "    <tr>\n",
       "      <th>1</th>\n",
       "      <td>2020-06-02 02:00:00</td>\n",
       "      <td>11.024005</td>\n",
       "    </tr>\n",
       "    <tr>\n",
       "      <th>2</th>\n",
       "      <td>2020-06-02 03:00:00</td>\n",
       "      <td>9.922991</td>\n",
       "    </tr>\n",
       "    <tr>\n",
       "      <th>3</th>\n",
       "      <td>2020-06-02 04:00:00</td>\n",
       "      <td>7.851151</td>\n",
       "    </tr>\n",
       "    <tr>\n",
       "      <th>4</th>\n",
       "      <td>2020-06-02 05:00:00</td>\n",
       "      <td>6.528430</td>\n",
       "    </tr>\n",
       "    <tr>\n",
       "      <th>...</th>\n",
       "      <td>...</td>\n",
       "      <td>...</td>\n",
       "    </tr>\n",
       "    <tr>\n",
       "      <th>13894</th>\n",
       "      <td>2022-01-30 14:00:00</td>\n",
       "      <td>22.813528</td>\n",
       "    </tr>\n",
       "    <tr>\n",
       "      <th>13895</th>\n",
       "      <td>2022-01-30 15:00:00</td>\n",
       "      <td>21.302158</td>\n",
       "    </tr>\n",
       "    <tr>\n",
       "      <th>13896</th>\n",
       "      <td>2022-01-30 16:00:00</td>\n",
       "      <td>22.024620</td>\n",
       "    </tr>\n",
       "    <tr>\n",
       "      <th>13897</th>\n",
       "      <td>2022-01-30 16:00:00</td>\n",
       "      <td>22.039042</td>\n",
       "    </tr>\n",
       "    <tr>\n",
       "      <th>13898</th>\n",
       "      <td>2022-01-30 18:00:00</td>\n",
       "      <td>21.716974</td>\n",
       "    </tr>\n",
       "  </tbody>\n",
       "</table>\n",
       "<p>13899 rows × 2 columns</p>\n",
       "</div>"
      ],
      "text/plain": [
       "                 Datetime      PM2.5\n",
       "0     2020-06-02 01:00:00  11.120969\n",
       "1     2020-06-02 02:00:00  11.024005\n",
       "2     2020-06-02 03:00:00   9.922991\n",
       "3     2020-06-02 04:00:00   7.851151\n",
       "4     2020-06-02 05:00:00   6.528430\n",
       "...                   ...        ...\n",
       "13894 2022-01-30 14:00:00  22.813528\n",
       "13895 2022-01-30 15:00:00  21.302158\n",
       "13896 2022-01-30 16:00:00  22.024620\n",
       "13897 2022-01-30 16:00:00  22.039042\n",
       "13898 2022-01-30 18:00:00  21.716974\n",
       "\n",
       "[13899 rows x 2 columns]"
      ]
     },
     "execution_count": 37,
     "metadata": {},
     "output_type": "execute_result"
    }
   ],
   "source": [
    "out_pred"
   ]
  },
  {
   "cell_type": "code",
   "execution_count": 35,
   "metadata": {},
   "outputs": [],
   "source": [
    "out_pred.to_csv(f'{station}_prediction.csv', index=False)"
   ]
  }
 ],
 "metadata": {
  "interpreter": {
   "hash": "851ad3827ade15f126283b8c8042c69c5b9ec84b281d2cf20f82bb0ef051bf16"
  },
  "kernelspec": {
   "display_name": "Python 3.8.11 ('CEM')",
   "language": "python",
   "name": "python3"
  },
  "language_info": {
   "codemirror_mode": {
    "name": "ipython",
    "version": 3
   },
   "file_extension": ".py",
   "mimetype": "text/x-python",
   "name": "python",
   "nbconvert_exporter": "python",
   "pygments_lexer": "ipython3",
   "version": "3.8.11"
  },
  "orig_nbformat": 4
 },
 "nbformat": 4,
 "nbformat_minor": 2
}
