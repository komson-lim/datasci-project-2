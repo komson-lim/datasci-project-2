{
 "cells": [
  {
   "cell_type": "code",
   "execution_count": 1,
   "metadata": {},
   "outputs": [],
   "source": [
    "# Import libs\n",
    "import pandas as pd \n",
    "import matplotlib.pyplot as plt \n",
    "import numpy as np \n",
    "import os \n",
    "from tqdm.notebook import tqdm \n",
    "\n",
    "import torch \n",
    "from torch import nn \n",
    "import torch.nn.functional as F \n",
    "from torch import optim \n",
    "from torch.utils.data import Dataset, DataLoader\n",
    "from torchinfo import summary\n",
    "\n",
    "from sklearn.metrics import mean_squared_error\n",
    "import datetime"
   ]
  },
  {
   "cell_type": "markdown",
   "metadata": {},
   "source": [
    "# Data preparation"
   ]
  },
  {
   "cell_type": "markdown",
   "metadata": {},
   "source": [
    "## Combine 2 datasets together"
   ]
  },
  {
   "cell_type": "code",
   "execution_count": 2,
   "metadata": {},
   "outputs": [],
   "source": [
    "stations = ['76t', '36t']"
   ]
  },
  {
   "cell_type": "code",
   "execution_count": 3,
   "metadata": {},
   "outputs": [],
   "source": [
    "station_to_file = {\n",
    "    '76t': 'data/PCD Data/Data before 2020-9/(76t)ศูนย์การศึกษานอกโรงเรียน จ.ตาก.xlsx',\n",
    "    '36t': 'data/PCD Data/Data before 2020-9/เชียงใหม่/(36t)โรงเรียนยุพราชวิทยาลัย.xlsx'\n",
    "    }\n",
    "sheets = {\n",
    "    '76t': 0,\n",
    "    '36t': 2\n",
    "}"
   ]
  },
  {
   "cell_type": "code",
   "execution_count": 4,
   "metadata": {},
   "outputs": [],
   "source": [
    "dfs1 = {}\n",
    "for station in stations:\n",
    "    dfs1[station] = pd.read_excel(station_to_file[station], sheet_name=sheets[station])"
   ]
  },
  {
   "cell_type": "code",
   "execution_count": 5,
   "metadata": {},
   "outputs": [
    {
     "data": {
      "text/html": [
       "<div>\n",
       "<style scoped>\n",
       "    .dataframe tbody tr th:only-of-type {\n",
       "        vertical-align: middle;\n",
       "    }\n",
       "\n",
       "    .dataframe tbody tr th {\n",
       "        vertical-align: top;\n",
       "    }\n",
       "\n",
       "    .dataframe thead th {\n",
       "        text-align: right;\n",
       "    }\n",
       "</style>\n",
       "<table border=\"1\" class=\"dataframe\">\n",
       "  <thead>\n",
       "    <tr style=\"text-align: right;\">\n",
       "      <th></th>\n",
       "      <th>ปี/เดือน/วัน</th>\n",
       "      <th>ชั่วโมง</th>\n",
       "      <th>CO</th>\n",
       "      <th>NO2</th>\n",
       "      <th>SO2</th>\n",
       "      <th>PM10</th>\n",
       "      <th>Wind dir</th>\n",
       "      <th>Temp</th>\n",
       "      <th>Rel hum</th>\n",
       "      <th>Wind speed</th>\n",
       "      <th>PM2.5</th>\n",
       "    </tr>\n",
       "  </thead>\n",
       "  <tbody>\n",
       "    <tr>\n",
       "      <th>0</th>\n",
       "      <td>NaN</td>\n",
       "      <td>NaN</td>\n",
       "      <td>at 3 m (ppm)</td>\n",
       "      <td>at 3 m (ppb)</td>\n",
       "      <td>at 3 m (ppb)</td>\n",
       "      <td>at 3 m (มคก./ลบ.ม.)</td>\n",
       "      <td>at 10 m (Deg.M)</td>\n",
       "      <td>at 2 m</td>\n",
       "      <td>at 2 m (%RH)</td>\n",
       "      <td>at 10 m (m/s)</td>\n",
       "      <td>at 3 m (มคก./ลบ.ม.)</td>\n",
       "    </tr>\n",
       "    <tr>\n",
       "      <th>1</th>\n",
       "      <td>160101.0</td>\n",
       "      <td>100.0</td>\n",
       "      <td>1.7</td>\n",
       "      <td>32</td>\n",
       "      <td>2</td>\n",
       "      <td>65</td>\n",
       "      <td>9</td>\n",
       "      <td>22.6</td>\n",
       "      <td>65</td>\n",
       "      <td>0.5</td>\n",
       "      <td>33</td>\n",
       "    </tr>\n",
       "    <tr>\n",
       "      <th>2</th>\n",
       "      <td>160101.0</td>\n",
       "      <td>200.0</td>\n",
       "      <td>1.4</td>\n",
       "      <td>24</td>\n",
       "      <td>1</td>\n",
       "      <td>72</td>\n",
       "      <td>8</td>\n",
       "      <td>21.4</td>\n",
       "      <td>71</td>\n",
       "      <td>0.4</td>\n",
       "      <td>40</td>\n",
       "    </tr>\n",
       "    <tr>\n",
       "      <th>3</th>\n",
       "      <td>160101.0</td>\n",
       "      <td>300.0</td>\n",
       "      <td>1.2</td>\n",
       "      <td>21</td>\n",
       "      <td>1</td>\n",
       "      <td>55</td>\n",
       "      <td>15</td>\n",
       "      <td>21.1</td>\n",
       "      <td>71</td>\n",
       "      <td>0.4</td>\n",
       "      <td>43</td>\n",
       "    </tr>\n",
       "    <tr>\n",
       "      <th>4</th>\n",
       "      <td>160101.0</td>\n",
       "      <td>400.0</td>\n",
       "      <td>1</td>\n",
       "      <td>14</td>\n",
       "      <td>1</td>\n",
       "      <td>50</td>\n",
       "      <td>16</td>\n",
       "      <td>20.2</td>\n",
       "      <td>75</td>\n",
       "      <td>0.3</td>\n",
       "      <td>41</td>\n",
       "    </tr>\n",
       "  </tbody>\n",
       "</table>\n",
       "</div>"
      ],
      "text/plain": [
       "   ปี/เดือน/วัน  ชั่วโมง            CO           NO2          SO2   \\\n",
       "0           NaN      NaN  at 3 m (ppm)  at 3 m (ppb)  at 3 m (ppb)   \n",
       "1      160101.0    100.0           1.7            32             2   \n",
       "2      160101.0    200.0           1.4            24             1   \n",
       "3      160101.0    300.0           1.2            21             1   \n",
       "4      160101.0    400.0             1            14             1   \n",
       "\n",
       "                  PM10         Wind dir    Temp       Rel hum     Wind speed  \\\n",
       "0  at 3 m (มคก./ลบ.ม.)  at 10 m (Deg.M)  at 2 m  at 2 m (%RH)  at 10 m (m/s)   \n",
       "1                   65                9    22.6            65            0.5   \n",
       "2                   72                8    21.4            71            0.4   \n",
       "3                   55               15    21.1            71            0.4   \n",
       "4                   50               16    20.2            75            0.3   \n",
       "\n",
       "                 PM2.5  \n",
       "0  at 3 m (มคก./ลบ.ม.)  \n",
       "1                   33  \n",
       "2                   40  \n",
       "3                   43  \n",
       "4                   41  "
      ]
     },
     "execution_count": 5,
     "metadata": {},
     "output_type": "execute_result"
    }
   ],
   "source": [
    "dfs1['36t'].head()"
   ]
  },
  {
   "cell_type": "code",
   "execution_count": 6,
   "metadata": {},
   "outputs": [
    {
     "name": "stdout",
     "output_type": "stream",
     "text": [
      "<class 'pandas.core.frame.DataFrame'>\n",
      "RangeIndex: 41641 entries, 0 to 41640\n",
      "Data columns (total 11 columns):\n",
      " #   Column        Non-Null Count  Dtype  \n",
      "---  ------        --------------  -----  \n",
      " 0   ปี/เดือน/วัน  41640 non-null  float64\n",
      " 1   ชั่วโมง       41640 non-null  float64\n",
      " 2   CO            41428 non-null  object \n",
      " 3    NO2          37249 non-null  object \n",
      " 4    SO2          41570 non-null  object \n",
      " 5   PM10          41582 non-null  object \n",
      " 6    Wind dir     41623 non-null  object \n",
      " 7    Temp         39752 non-null  object \n",
      " 8    Rel hum      39489 non-null  object \n",
      " 9    Wind speed   41628 non-null  object \n",
      " 10  PM2.5         41548 non-null  object \n",
      "dtypes: float64(2), object(9)\n",
      "memory usage: 3.5+ MB\n"
     ]
    }
   ],
   "source": [
    "dfs1['36t'].info()"
   ]
  },
  {
   "cell_type": "code",
   "execution_count": 7,
   "metadata": {},
   "outputs": [],
   "source": [
    "def process_data_before(df):\n",
    "    df = df.iloc[1:,:]\n",
    "    df = df.loc[:, df.columns.isin(['PM2.5', 'ปี/เดือน/วัน', 'ชั่วโมง'])]\n",
    "    df['Date'] = pd.to_datetime(df['ปี/เดือน/วัน'], format='%y%m%d')\n",
    "    df['ชั่วโมง'] = df['ชั่วโมง'].apply(lambda x: 0 if int(x) == 2400 else x)\n",
    "    df.loc[df['ชั่วโมง'] == 0, 'Date'] += datetime.timedelta(days=1)\n",
    "    df['Time'] = df['ชั่วโมง'].astype('str')\n",
    "    df['Time'] = df['Time'].apply(lambda x: x[:-2].zfill(4))\n",
    "    df['Datetime'] = pd.to_datetime(df['Date'].astype('str') + ' ' +df['Time'], format='%Y-%m-%d %H%M')\n",
    "    df = df.drop(['Time', 'Date', 'ปี/เดือน/วัน', 'ชั่วโมง'], axis=1)\n",
    "    df = df.set_index('Datetime').sort_index()\n",
    "    df = df[df.index < '2020-07-20 19:00:00']\n",
    "    df = df[df.index > '2016-06-01 00:00:00']\n",
    "    df['PM2.5'] = df['PM2.5'].replace('-', np.nan)\n",
    "    return df"
   ]
  },
  {
   "cell_type": "code",
   "execution_count": 8,
   "metadata": {},
   "outputs": [
    {
     "data": {
      "text/html": [
       "<div>\n",
       "<style scoped>\n",
       "    .dataframe tbody tr th:only-of-type {\n",
       "        vertical-align: middle;\n",
       "    }\n",
       "\n",
       "    .dataframe tbody tr th {\n",
       "        vertical-align: top;\n",
       "    }\n",
       "\n",
       "    .dataframe thead th {\n",
       "        text-align: right;\n",
       "    }\n",
       "</style>\n",
       "<table border=\"1\" class=\"dataframe\">\n",
       "  <thead>\n",
       "    <tr style=\"text-align: right;\">\n",
       "      <th></th>\n",
       "      <th>PM2.5</th>\n",
       "    </tr>\n",
       "    <tr>\n",
       "      <th>Datetime</th>\n",
       "      <th></th>\n",
       "    </tr>\n",
       "  </thead>\n",
       "  <tbody>\n",
       "    <tr>\n",
       "      <th>2016-06-01 01:00:00</th>\n",
       "      <td>2.0</td>\n",
       "    </tr>\n",
       "    <tr>\n",
       "      <th>2016-06-01 02:00:00</th>\n",
       "      <td>4.0</td>\n",
       "    </tr>\n",
       "    <tr>\n",
       "      <th>2016-06-01 03:00:00</th>\n",
       "      <td>4.0</td>\n",
       "    </tr>\n",
       "    <tr>\n",
       "      <th>2016-06-01 04:00:00</th>\n",
       "      <td>4.0</td>\n",
       "    </tr>\n",
       "    <tr>\n",
       "      <th>2016-06-01 05:00:00</th>\n",
       "      <td>7.0</td>\n",
       "    </tr>\n",
       "  </tbody>\n",
       "</table>\n",
       "</div>"
      ],
      "text/plain": [
       "                     PM2.5\n",
       "Datetime                  \n",
       "2016-06-01 01:00:00    2.0\n",
       "2016-06-01 02:00:00    4.0\n",
       "2016-06-01 03:00:00    4.0\n",
       "2016-06-01 04:00:00    4.0\n",
       "2016-06-01 05:00:00    7.0"
      ]
     },
     "execution_count": 8,
     "metadata": {},
     "output_type": "execute_result"
    }
   ],
   "source": [
    "process_data_before(dfs1['76t']).head()"
   ]
  },
  {
   "cell_type": "code",
   "execution_count": 9,
   "metadata": {},
   "outputs": [
    {
     "data": {
      "text/html": [
       "<div>\n",
       "<style scoped>\n",
       "    .dataframe tbody tr th:only-of-type {\n",
       "        vertical-align: middle;\n",
       "    }\n",
       "\n",
       "    .dataframe tbody tr th {\n",
       "        vertical-align: top;\n",
       "    }\n",
       "\n",
       "    .dataframe thead th {\n",
       "        text-align: right;\n",
       "    }\n",
       "</style>\n",
       "<table border=\"1\" class=\"dataframe\">\n",
       "  <thead>\n",
       "    <tr style=\"text-align: right;\">\n",
       "      <th></th>\n",
       "      <th>PM2.5</th>\n",
       "    </tr>\n",
       "    <tr>\n",
       "      <th>Datetime</th>\n",
       "      <th></th>\n",
       "    </tr>\n",
       "  </thead>\n",
       "  <tbody>\n",
       "    <tr>\n",
       "      <th>2016-06-01 01:00:00</th>\n",
       "      <td>13.0</td>\n",
       "    </tr>\n",
       "    <tr>\n",
       "      <th>2016-06-01 02:00:00</th>\n",
       "      <td>9.0</td>\n",
       "    </tr>\n",
       "    <tr>\n",
       "      <th>2016-06-01 03:00:00</th>\n",
       "      <td>7.0</td>\n",
       "    </tr>\n",
       "    <tr>\n",
       "      <th>2016-06-01 04:00:00</th>\n",
       "      <td>2.0</td>\n",
       "    </tr>\n",
       "    <tr>\n",
       "      <th>2016-06-01 05:00:00</th>\n",
       "      <td>7.0</td>\n",
       "    </tr>\n",
       "  </tbody>\n",
       "</table>\n",
       "</div>"
      ],
      "text/plain": [
       "                     PM2.5\n",
       "Datetime                  \n",
       "2016-06-01 01:00:00   13.0\n",
       "2016-06-01 02:00:00    9.0\n",
       "2016-06-01 03:00:00    7.0\n",
       "2016-06-01 04:00:00    2.0\n",
       "2016-06-01 05:00:00    7.0"
      ]
     },
     "execution_count": 9,
     "metadata": {},
     "output_type": "execute_result"
    }
   ],
   "source": [
    "process_data_before(dfs1['36t']).head()"
   ]
  },
  {
   "cell_type": "code",
   "execution_count": 10,
   "metadata": {},
   "outputs": [],
   "source": [
    "df2 = pd.read_csv('data/PCD Data/Data after 2020-7/PCD data after 2020-7.csv')"
   ]
  },
  {
   "cell_type": "code",
   "execution_count": 11,
   "metadata": {},
   "outputs": [],
   "source": [
    "dfs2 = {}\n",
    "for station in stations:\n",
    "    dfs2[station] = df2[df2['stationID'] == station]"
   ]
  },
  {
   "cell_type": "code",
   "execution_count": 12,
   "metadata": {},
   "outputs": [
    {
     "data": {
      "text/html": [
       "<div>\n",
       "<style scoped>\n",
       "    .dataframe tbody tr th:only-of-type {\n",
       "        vertical-align: middle;\n",
       "    }\n",
       "\n",
       "    .dataframe tbody tr th {\n",
       "        vertical-align: top;\n",
       "    }\n",
       "\n",
       "    .dataframe thead th {\n",
       "        text-align: right;\n",
       "    }\n",
       "</style>\n",
       "<table border=\"1\" class=\"dataframe\">\n",
       "  <thead>\n",
       "    <tr style=\"text-align: right;\">\n",
       "      <th></th>\n",
       "      <th>id</th>\n",
       "      <th>stationID</th>\n",
       "      <th>nameTH</th>\n",
       "      <th>nameEN</th>\n",
       "      <th>stationType</th>\n",
       "      <th>lat</th>\n",
       "      <th>long</th>\n",
       "      <th>date_aq</th>\n",
       "      <th>time_aq</th>\n",
       "      <th>PM25</th>\n",
       "      <th>PM10</th>\n",
       "      <th>NO2</th>\n",
       "      <th>SO2</th>\n",
       "      <th>CO</th>\n",
       "      <th>O3</th>\n",
       "      <th>AQI</th>\n",
       "      <th>areaTH</th>\n",
       "      <th>areaEN</th>\n",
       "      <th>datetime_aq</th>\n",
       "    </tr>\n",
       "  </thead>\n",
       "  <tbody>\n",
       "    <tr>\n",
       "      <th>55</th>\n",
       "      <td>515509</td>\n",
       "      <td>36t</td>\n",
       "      <td>โรงเรียนยุพราชวิทยาลัย</td>\n",
       "      <td>Yupparaj Wittayalai School</td>\n",
       "      <td>GROUND</td>\n",
       "      <td>18.79092</td>\n",
       "      <td>98.988106</td>\n",
       "      <td>2020-07-20</td>\n",
       "      <td>21:00:00</td>\n",
       "      <td>7.0</td>\n",
       "      <td>19.0</td>\n",
       "      <td>NaN</td>\n",
       "      <td>1.0</td>\n",
       "      <td>0.50</td>\n",
       "      <td>NaN</td>\n",
       "      <td>1</td>\n",
       "      <td>ต.ศรีภูมิ อ.เมือง, เชียงใหม่</td>\n",
       "      <td>Si Phum, Meuang, Chiang Mai</td>\n",
       "      <td>2020-07-20 21:00:00.000</td>\n",
       "    </tr>\n",
       "    <tr>\n",
       "      <th>280</th>\n",
       "      <td>515767</td>\n",
       "      <td>36t</td>\n",
       "      <td>โรงเรียนยุพราชวิทยาลัย</td>\n",
       "      <td>Yupparaj Wittayalai School</td>\n",
       "      <td>GROUND</td>\n",
       "      <td>18.79092</td>\n",
       "      <td>98.988106</td>\n",
       "      <td>2020-07-20</td>\n",
       "      <td>23:00:00</td>\n",
       "      <td>66.0</td>\n",
       "      <td>77.0</td>\n",
       "      <td>NaN</td>\n",
       "      <td>1.0</td>\n",
       "      <td>NaN</td>\n",
       "      <td>NaN</td>\n",
       "      <td>4</td>\n",
       "      <td>ต.ศรีภูมิ อ.เมือง, เชียงใหม่</td>\n",
       "      <td>Si Phum, Meuang, Chiang Mai</td>\n",
       "      <td>2020-07-20 23:00:00.000</td>\n",
       "    </tr>\n",
       "    <tr>\n",
       "      <th>449</th>\n",
       "      <td>515251</td>\n",
       "      <td>36t</td>\n",
       "      <td>โรงเรียนยุพราชวิทยาลัย</td>\n",
       "      <td>Yupparaj Wittayalai School</td>\n",
       "      <td>GROUND</td>\n",
       "      <td>18.79092</td>\n",
       "      <td>98.988106</td>\n",
       "      <td>2020-07-20</td>\n",
       "      <td>19:00:00</td>\n",
       "      <td>7.0</td>\n",
       "      <td>18.0</td>\n",
       "      <td>NaN</td>\n",
       "      <td>1.0</td>\n",
       "      <td>NaN</td>\n",
       "      <td>NaN</td>\n",
       "      <td>1</td>\n",
       "      <td>ต.ศรีภูมิ อ.เมือง, เชียงใหม่</td>\n",
       "      <td>Si Phum, Meuang, Chiang Mai</td>\n",
       "      <td>2020-07-20 19:00:00.000</td>\n",
       "    </tr>\n",
       "    <tr>\n",
       "      <th>567</th>\n",
       "      <td>515380</td>\n",
       "      <td>36t</td>\n",
       "      <td>โรงเรียนยุพราชวิทยาลัย</td>\n",
       "      <td>Yupparaj Wittayalai School</td>\n",
       "      <td>GROUND</td>\n",
       "      <td>18.79092</td>\n",
       "      <td>98.988106</td>\n",
       "      <td>2020-07-20</td>\n",
       "      <td>20:00:00</td>\n",
       "      <td>7.0</td>\n",
       "      <td>18.0</td>\n",
       "      <td>NaN</td>\n",
       "      <td>1.0</td>\n",
       "      <td>NaN</td>\n",
       "      <td>NaN</td>\n",
       "      <td>1</td>\n",
       "      <td>ต.ศรีภูมิ อ.เมือง, เชียงใหม่</td>\n",
       "      <td>Si Phum, Meuang, Chiang Mai</td>\n",
       "      <td>2020-07-20 20:00:00.000</td>\n",
       "    </tr>\n",
       "    <tr>\n",
       "      <th>647</th>\n",
       "      <td>517573</td>\n",
       "      <td>36t</td>\n",
       "      <td>โรงเรียนยุพราชวิทยาลัย</td>\n",
       "      <td>Yupparaj Wittayalai School</td>\n",
       "      <td>GROUND</td>\n",
       "      <td>18.79092</td>\n",
       "      <td>98.988106</td>\n",
       "      <td>2020-07-21</td>\n",
       "      <td>13:00:00</td>\n",
       "      <td>NaN</td>\n",
       "      <td>NaN</td>\n",
       "      <td>NaN</td>\n",
       "      <td>1.0</td>\n",
       "      <td>0.61</td>\n",
       "      <td>NaN</td>\n",
       "      <td>1</td>\n",
       "      <td>ต.ศรีภูมิ อ.เมือง, เชียงใหม่</td>\n",
       "      <td>Si Phum, Meuang, Chiang Mai</td>\n",
       "      <td>2020-07-21 13:00:00.000</td>\n",
       "    </tr>\n",
       "  </tbody>\n",
       "</table>\n",
       "</div>"
      ],
      "text/plain": [
       "         id stationID                   nameTH                      nameEN  \\\n",
       "55   515509       36t  โรงเรียนยุพราชวิทยาลัย   Yupparaj Wittayalai School   \n",
       "280  515767       36t  โรงเรียนยุพราชวิทยาลัย   Yupparaj Wittayalai School   \n",
       "449  515251       36t  โรงเรียนยุพราชวิทยาลัย   Yupparaj Wittayalai School   \n",
       "567  515380       36t  โรงเรียนยุพราชวิทยาลัย   Yupparaj Wittayalai School   \n",
       "647  517573       36t  โรงเรียนยุพราชวิทยาลัย   Yupparaj Wittayalai School   \n",
       "\n",
       "    stationType       lat       long     date_aq   time_aq  PM25  PM10  NO2  \\\n",
       "55       GROUND  18.79092  98.988106  2020-07-20  21:00:00   7.0  19.0  NaN   \n",
       "280      GROUND  18.79092  98.988106  2020-07-20  23:00:00  66.0  77.0  NaN   \n",
       "449      GROUND  18.79092  98.988106  2020-07-20  19:00:00   7.0  18.0  NaN   \n",
       "567      GROUND  18.79092  98.988106  2020-07-20  20:00:00   7.0  18.0  NaN   \n",
       "647      GROUND  18.79092  98.988106  2020-07-21  13:00:00   NaN   NaN  NaN   \n",
       "\n",
       "     SO2    CO  O3  AQI                        areaTH  \\\n",
       "55   1.0  0.50 NaN    1  ต.ศรีภูมิ อ.เมือง, เชียงใหม่   \n",
       "280  1.0   NaN NaN    4  ต.ศรีภูมิ อ.เมือง, เชียงใหม่   \n",
       "449  1.0   NaN NaN    1  ต.ศรีภูมิ อ.เมือง, เชียงใหม่   \n",
       "567  1.0   NaN NaN    1  ต.ศรีภูมิ อ.เมือง, เชียงใหม่   \n",
       "647  1.0  0.61 NaN    1  ต.ศรีภูมิ อ.เมือง, เชียงใหม่   \n",
       "\n",
       "                          areaEN              datetime_aq  \n",
       "55   Si Phum, Meuang, Chiang Mai  2020-07-20 21:00:00.000  \n",
       "280  Si Phum, Meuang, Chiang Mai  2020-07-20 23:00:00.000  \n",
       "449  Si Phum, Meuang, Chiang Mai  2020-07-20 19:00:00.000  \n",
       "567  Si Phum, Meuang, Chiang Mai  2020-07-20 20:00:00.000  \n",
       "647  Si Phum, Meuang, Chiang Mai  2020-07-21 13:00:00.000  "
      ]
     },
     "execution_count": 12,
     "metadata": {},
     "output_type": "execute_result"
    }
   ],
   "source": [
    "dfs2['36t'].head()"
   ]
  },
  {
   "cell_type": "code",
   "execution_count": 13,
   "metadata": {},
   "outputs": [],
   "source": [
    "def process_data_after(df):\n",
    "    df = df.drop(['id', 'stationID', 'nameTH', 'nameEN', 'stationType', 'lat', 'long', 'date_aq', 'time_aq', 'PM10', 'NO2', 'SO2', 'CO', 'O3', 'AQI','areaTH', 'areaEN'], axis=1)\n",
    "    df['Datetime'] = pd.to_datetime(df['datetime_aq'], format='%Y-%m-%d %H:%M:%S.%f')\n",
    "    df = df.set_index('Datetime').sort_index()\n",
    "    df = df.rename(columns={'PM25': 'PM2.5'})\n",
    "    df = df.drop(['datetime_aq'], axis=1)\n",
    "    return df"
   ]
  },
  {
   "cell_type": "code",
   "execution_count": 14,
   "metadata": {},
   "outputs": [
    {
     "data": {
      "text/html": [
       "<div>\n",
       "<style scoped>\n",
       "    .dataframe tbody tr th:only-of-type {\n",
       "        vertical-align: middle;\n",
       "    }\n",
       "\n",
       "    .dataframe tbody tr th {\n",
       "        vertical-align: top;\n",
       "    }\n",
       "\n",
       "    .dataframe thead th {\n",
       "        text-align: right;\n",
       "    }\n",
       "</style>\n",
       "<table border=\"1\" class=\"dataframe\">\n",
       "  <thead>\n",
       "    <tr style=\"text-align: right;\">\n",
       "      <th></th>\n",
       "      <th>PM2.5</th>\n",
       "    </tr>\n",
       "    <tr>\n",
       "      <th>Datetime</th>\n",
       "      <th></th>\n",
       "    </tr>\n",
       "  </thead>\n",
       "  <tbody>\n",
       "    <tr>\n",
       "      <th>2020-07-20 19:00:00</th>\n",
       "      <td>7.0</td>\n",
       "    </tr>\n",
       "    <tr>\n",
       "      <th>2020-07-20 20:00:00</th>\n",
       "      <td>7.0</td>\n",
       "    </tr>\n",
       "    <tr>\n",
       "      <th>2020-07-20 21:00:00</th>\n",
       "      <td>7.0</td>\n",
       "    </tr>\n",
       "    <tr>\n",
       "      <th>2020-07-20 23:00:00</th>\n",
       "      <td>66.0</td>\n",
       "    </tr>\n",
       "    <tr>\n",
       "      <th>2020-07-21 00:00:00</th>\n",
       "      <td>NaN</td>\n",
       "    </tr>\n",
       "  </tbody>\n",
       "</table>\n",
       "</div>"
      ],
      "text/plain": [
       "                     PM2.5\n",
       "Datetime                  \n",
       "2020-07-20 19:00:00    7.0\n",
       "2020-07-20 20:00:00    7.0\n",
       "2020-07-20 21:00:00    7.0\n",
       "2020-07-20 23:00:00   66.0\n",
       "2020-07-21 00:00:00    NaN"
      ]
     },
     "execution_count": 14,
     "metadata": {},
     "output_type": "execute_result"
    }
   ],
   "source": [
    "process_data_after(dfs2['36t']).head()"
   ]
  },
  {
   "cell_type": "code",
   "execution_count": 15,
   "metadata": {},
   "outputs": [],
   "source": [
    "dfs = {}\n",
    "for station in stations:\n",
    "    dfs[station] = pd.concat((process_data_before(dfs1[station]), process_data_after(dfs2[station])))"
   ]
  },
  {
   "cell_type": "code",
   "execution_count": 16,
   "metadata": {},
   "outputs": [
    {
     "data": {
      "text/html": [
       "<div>\n",
       "<style scoped>\n",
       "    .dataframe tbody tr th:only-of-type {\n",
       "        vertical-align: middle;\n",
       "    }\n",
       "\n",
       "    .dataframe tbody tr th {\n",
       "        vertical-align: top;\n",
       "    }\n",
       "\n",
       "    .dataframe thead th {\n",
       "        text-align: right;\n",
       "    }\n",
       "</style>\n",
       "<table border=\"1\" class=\"dataframe\">\n",
       "  <thead>\n",
       "    <tr style=\"text-align: right;\">\n",
       "      <th></th>\n",
       "      <th>PM2.5</th>\n",
       "    </tr>\n",
       "    <tr>\n",
       "      <th>Datetime</th>\n",
       "      <th></th>\n",
       "    </tr>\n",
       "  </thead>\n",
       "  <tbody>\n",
       "    <tr>\n",
       "      <th>2016-06-01 01:00:00</th>\n",
       "      <td>13.0</td>\n",
       "    </tr>\n",
       "    <tr>\n",
       "      <th>2016-06-01 02:00:00</th>\n",
       "      <td>9.0</td>\n",
       "    </tr>\n",
       "    <tr>\n",
       "      <th>2016-06-01 03:00:00</th>\n",
       "      <td>7.0</td>\n",
       "    </tr>\n",
       "    <tr>\n",
       "      <th>2016-06-01 04:00:00</th>\n",
       "      <td>2.0</td>\n",
       "    </tr>\n",
       "    <tr>\n",
       "      <th>2016-06-01 05:00:00</th>\n",
       "      <td>7.0</td>\n",
       "    </tr>\n",
       "    <tr>\n",
       "      <th>...</th>\n",
       "      <td>...</td>\n",
       "    </tr>\n",
       "    <tr>\n",
       "      <th>2022-01-30 13:00:00</th>\n",
       "      <td>17.0</td>\n",
       "    </tr>\n",
       "    <tr>\n",
       "      <th>2022-01-30 14:00:00</th>\n",
       "      <td>17.0</td>\n",
       "    </tr>\n",
       "    <tr>\n",
       "      <th>2022-01-30 15:00:00</th>\n",
       "      <td>17.0</td>\n",
       "    </tr>\n",
       "    <tr>\n",
       "      <th>2022-01-30 16:00:00</th>\n",
       "      <td>18.0</td>\n",
       "    </tr>\n",
       "    <tr>\n",
       "      <th>2022-01-30 17:00:00</th>\n",
       "      <td>18.0</td>\n",
       "    </tr>\n",
       "  </tbody>\n",
       "</table>\n",
       "<p>49276 rows × 1 columns</p>\n",
       "</div>"
      ],
      "text/plain": [
       "                     PM2.5\n",
       "Datetime                  \n",
       "2016-06-01 01:00:00   13.0\n",
       "2016-06-01 02:00:00    9.0\n",
       "2016-06-01 03:00:00    7.0\n",
       "2016-06-01 04:00:00    2.0\n",
       "2016-06-01 05:00:00    7.0\n",
       "...                    ...\n",
       "2022-01-30 13:00:00   17.0\n",
       "2022-01-30 14:00:00   17.0\n",
       "2022-01-30 15:00:00   17.0\n",
       "2022-01-30 16:00:00   18.0\n",
       "2022-01-30 17:00:00   18.0\n",
       "\n",
       "[49276 rows x 1 columns]"
      ]
     },
     "execution_count": 16,
     "metadata": {},
     "output_type": "execute_result"
    }
   ],
   "source": [
    "dfs['36t']"
   ]
  },
  {
   "cell_type": "markdown",
   "metadata": {},
   "source": [
    "## Impute missing value"
   ]
  },
  {
   "cell_type": "code",
   "execution_count": 17,
   "metadata": {},
   "outputs": [],
   "source": [
    "for station in stations:\n",
    "    dfs[station] = dfs[station].ffill()"
   ]
  },
  {
   "cell_type": "markdown",
   "metadata": {},
   "source": [
    "## Add feature"
   ]
  },
  {
   "cell_type": "code",
   "execution_count": 18,
   "metadata": {},
   "outputs": [],
   "source": [
    "for station in stations:\n",
    "    # dfs[station]['Monthcos'] = np.cos(2 * np.pi * (dfs[station].index.month -1) /11)\n",
    "    # dfs[station]['Monthsin'] = np.sin(2 * np.pi * (dfs[station].index.month -1) /11)\n",
    "\n",
    "    dfs[station]['Hourcos'] = np.cos(2 * np.pi * dfs[station].index.hour/24)\n",
    "    dfs[station]['Hoursin'] = np.sin(2 * np.pi * dfs[station].index.hour/24)\n",
    "\n",
    "    dfs[station]['Weekcos'] = np.cos(2 * np.pi * (dfs[station].index.isocalendar().week - 1)/52)\n",
    "    dfs[station]['Weeksin'] = np.sin(2 * np.pi * (dfs[station].index.isocalendar().week - 1)/52)\n"
   ]
  },
  {
   "cell_type": "markdown",
   "metadata": {},
   "source": [
    "## Add timestep"
   ]
  },
  {
   "cell_type": "code",
   "execution_count": 19,
   "metadata": {},
   "outputs": [],
   "source": [
    "def add_timestep(df, timestep):\n",
    "    xs = []\n",
    "    ys = []\n",
    "    for i in range(df.shape[0]-timestep-1):\n",
    "        x = df.iloc[i:i+timestep, :].to_numpy()\n",
    "        y = df.iloc[i+timestep, 0]\n",
    "        xs.append(x.astype(np.float32))\n",
    "        ys.append(y.astype(np.float32))\n",
    "    return xs, ys"
   ]
  },
  {
   "cell_type": "code",
   "execution_count": 20,
   "metadata": {},
   "outputs": [],
   "source": [
    "class PMDataset(Dataset): \n",
    "  def __init__(self, xs, ys):\n",
    "    self.xs = np.array(xs)\n",
    "    self.ys = np.array(ys).reshape(-1,1)\n",
    "  \n",
    "  def __len__(self):\n",
    "    return len(self.xs)\n",
    "  \n",
    "  def __getitem__(self, idx): \n",
    "    x = self.xs[idx]\n",
    "    y = self.ys[idx]\n",
    "    return x, y"
   ]
  },
  {
   "cell_type": "code",
   "execution_count": 21,
   "metadata": {},
   "outputs": [],
   "source": [
    "def df_to_dataset(df, timestep, batch_size):\n",
    "    xs, ys = add_timestep(df, timestep)\n",
    "    dataset = PMDataset(xs, ys)\n",
    "    return DataLoader(dataset, batch_size, shuffle=False, pin_memory=True)"
   ]
  },
  {
   "cell_type": "code",
   "execution_count": 22,
   "metadata": {},
   "outputs": [],
   "source": [
    "train_dataloaders = {}\n",
    "val_dataloaders = {}\n",
    "test_dataloaders = {}\n",
    "time_step = 24\n",
    "batch_size = 32\n",
    "for station in stations:\n",
    "    temp = dfs[station]\n",
    "    train = temp[temp.index < '2019-06-01']\n",
    "    val = temp[('2019-06-01' <= temp.index) & (temp.index < '2020-06-01')]\n",
    "    test = temp[temp.index >= '2020-06-01']\n",
    "    train_dataloaders[station] = df_to_dataset(train, time_step, batch_size)\n",
    "    val_dataloaders[station] = df_to_dataset(val, time_step, batch_size)\n",
    "    test_dataloaders[station] = df_to_dataset(test, time_step, batch_size)\n"
   ]
  },
  {
   "cell_type": "markdown",
   "metadata": {},
   "source": [
    "# Model"
   ]
  },
  {
   "cell_type": "markdown",
   "metadata": {},
   "source": [
    "## Initialize model"
   ]
  },
  {
   "cell_type": "code",
   "execution_count": 23,
   "metadata": {},
   "outputs": [],
   "source": [
    "device = \"cuda\" if torch.cuda.is_available() else \"cpu\""
   ]
  },
  {
   "cell_type": "code",
   "execution_count": 24,
   "metadata": {},
   "outputs": [],
   "source": [
    "class PMModel(nn.Module):\n",
    "    def __init__(self, input_dim, hidden_dim, n_layers, drop_prob=0.2):\n",
    "        super().__init__()\n",
    "        \n",
    "        self.hidden_dim = hidden_dim\n",
    "        self.n_layers = n_layers\n",
    "\n",
    "        self.gru = nn.GRU(input_dim, hidden_dim, n_layers, batch_first=True, dropout=drop_prob)\n",
    "        self.fc = nn.Linear(hidden_dim, 1)\n",
    "        self.relu = nn.ReLU()\n",
    "\n",
    "    def forward(self, x):\n",
    "        h = torch.zeros(size=(self.n_layers, len(x), self.hidden_dim)).cuda()\n",
    "        y, _ = self.gru(x, h)\n",
    "        y = self.fc(y[:, -1])\n",
    "        y = self.relu(y)\n",
    "        return y\n"
   ]
  },
  {
   "cell_type": "code",
   "execution_count": 25,
   "metadata": {},
   "outputs": [],
   "source": [
    "input_dim = dfs['76t'].shape[1]\n",
    "hidden_dim = 512\n",
    "n_layers = 5\n",
    "\n",
    "pm_model = PMModel(input_dim, hidden_dim, n_layers)\n",
    "pm_model = pm_model.to(device)"
   ]
  },
  {
   "cell_type": "code",
   "execution_count": 26,
   "metadata": {},
   "outputs": [
    {
     "data": {
      "text/plain": [
       "==========================================================================================\n",
       "Layer (type:depth-idx)                   Output Shape              Param #\n",
       "==========================================================================================\n",
       "PMModel                                  --                        --\n",
       "├─GRU: 1-1                               [32, 12, 512]             7,100,928\n",
       "├─Linear: 1-2                            [32, 1]                   513\n",
       "├─ReLU: 1-3                              [32, 1]                   --\n",
       "==========================================================================================\n",
       "Total params: 7,101,441\n",
       "Trainable params: 7,101,441\n",
       "Non-trainable params: 0\n",
       "Total mult-adds (G): 2.73\n",
       "==========================================================================================\n",
       "Input size (MB): 0.01\n",
       "Forward/backward pass size (MB): 1.57\n",
       "Params size (MB): 28.41\n",
       "Estimated Total Size (MB): 29.99\n",
       "=========================================================================================="
      ]
     },
     "execution_count": 26,
     "metadata": {},
     "output_type": "execute_result"
    }
   ],
   "source": [
    "temp_time_step = 12\n",
    "summary(pm_model, input_size=(batch_size,temp_time_step,input_dim))"
   ]
  },
  {
   "cell_type": "code",
   "execution_count": 27,
   "metadata": {},
   "outputs": [],
   "source": [
    "criterion = nn.MSELoss()\n",
    "optimizer = optim.Adam(pm_model.parameters(), lr=5e-5)\n",
    "scheduler = optim.lr_scheduler.ReduceLROnPlateau(optimizer, 'min', patience=4, factor=0.1, min_lr=1e-8)"
   ]
  },
  {
   "cell_type": "markdown",
   "metadata": {},
   "source": [
    "## Training"
   ]
  },
  {
   "cell_type": "code",
   "execution_count": 28,
   "metadata": {},
   "outputs": [
    {
     "data": {
      "application/vnd.jupyter.widget-view+json": {
       "model_id": "24c9d741fdd44833aa3e888c0ce197ac",
       "version_major": 2,
       "version_minor": 0
      },
      "text/plain": [
       "  0%|          | 0/25 [00:00<?, ?it/s]"
      ]
     },
     "metadata": {},
     "output_type": "display_data"
    },
    {
     "name": "stdout",
     "output_type": "stream",
     "text": [
      "Epoch 1 - Train loss = 692.1219 - Val loss = 996.3302 - best min_val_loss = 996.3302 - lr = 0.00005000\n",
      "Epoch 2 - Train loss = 671.0066 - Val loss = 975.7352 - best min_val_loss = 975.7352 - lr = 0.00005000\n",
      "Epoch 3 - Train loss = 585.2803 - Val loss = 873.2530 - best min_val_loss = 873.2530 - lr = 0.00005000\n",
      "Epoch 4 - Train loss = 462.7031 - Val loss = 693.1120 - best min_val_loss = 693.1120 - lr = 0.00005000\n",
      "Epoch 5 - Train loss = 405.9671 - Val loss = 620.8000 - best min_val_loss = 620.8000 - lr = 0.00005000\n",
      "Epoch 6 - Train loss = 368.2358 - Val loss = 576.8388 - best min_val_loss = 576.8388 - lr = 0.00005000\n",
      "Epoch 7 - Train loss = 340.5880 - Val loss = 548.5290 - best min_val_loss = 548.5290 - lr = 0.00005000\n",
      "Epoch 8 - Train loss = 320.0615 - Val loss = 542.1090 - best min_val_loss = 542.1090 - lr = 0.00005000\n",
      "Epoch 9 - Train loss = 303.7169 - Val loss = 513.2262 - best min_val_loss = 513.2262 - lr = 0.00005000\n",
      "Epoch 10 - Train loss = 269.4792 - Val loss = 451.3358 - best min_val_loss = 451.3358 - lr = 0.00005000\n",
      "Epoch 11 - Train loss = 212.8797 - Val loss = 385.4013 - best min_val_loss = 385.4013 - lr = 0.00005000\n",
      "Epoch 12 - Train loss = 192.6345 - Val loss = 337.9138 - best min_val_loss = 337.9138 - lr = 0.00005000\n",
      "Epoch 13 - Train loss = 178.0614 - Val loss = 298.7869 - best min_val_loss = 298.7869 - lr = 0.00005000\n",
      "Epoch 14 - Train loss = 166.1163 - Val loss = 267.8656 - best min_val_loss = 267.8656 - lr = 0.00005000\n",
      "Epoch 15 - Train loss = 156.5764 - Val loss = 246.6431 - best min_val_loss = 246.6431 - lr = 0.00005000\n",
      "Epoch 16 - Train loss = 147.9405 - Val loss = 228.4509 - best min_val_loss = 228.4509 - lr = 0.00005000\n",
      "Epoch 17 - Train loss = 140.6063 - Val loss = 214.3575 - best min_val_loss = 214.3575 - lr = 0.00005000\n",
      "Epoch 18 - Train loss = 134.0573 - Val loss = 203.5796 - best min_val_loss = 203.5796 - lr = 0.00005000\n",
      "Epoch 19 - Train loss = 127.9278 - Val loss = 193.5709 - best min_val_loss = 193.5709 - lr = 0.00005000\n",
      "Epoch 20 - Train loss = 122.9446 - Val loss = 180.3808 - best min_val_loss = 180.3808 - lr = 0.00005000\n",
      "Epoch 21 - Train loss = 118.2777 - Val loss = 170.9214 - best min_val_loss = 170.9214 - lr = 0.00005000\n",
      "Epoch 22 - Train loss = 113.6575 - Val loss = 162.4780 - best min_val_loss = 162.4780 - lr = 0.00005000\n",
      "Epoch 23 - Train loss = 109.7483 - Val loss = 155.2681 - best min_val_loss = 155.2681 - lr = 0.00005000\n",
      "Epoch 24 - Train loss = 106.0761 - Val loss = 148.8982 - best min_val_loss = 148.8982 - lr = 0.00005000\n",
      "Epoch 25 - Train loss = 103.0642 - Val loss = 140.4783 - best min_val_loss = 140.4783 - lr = 0.00005000\n"
     ]
    }
   ],
   "source": [
    "num_epochs = 25\n",
    "\n",
    "train_losses = []\n",
    "val_losses = []\n",
    "min_val_loss = float('inf')\n",
    "\n",
    "station = '36t'\n",
    "\n",
    "os.makedirs('weights', exist_ok=True)\n",
    "best_weights_path = f'weights/{station}_best_weights.pth'\n",
    "\n",
    "for epoch in tqdm(range(num_epochs)):\n",
    "    pm_model.train()\n",
    "    total_train_loss = 0\n",
    "\n",
    "    for x, y in train_dataloaders[station]:\n",
    "        x = x.type(torch.FloatTensor).to(device)\n",
    "        y = y.type(torch.FloatTensor).to(device)\n",
    "        pm_model.zero_grad()\n",
    "\n",
    "        out = pm_model(x)\n",
    "        train_loss = criterion(out, y)\n",
    "        train_loss.backward()\n",
    "        optimizer.step()\n",
    "\n",
    "        total_train_loss += train_loss.item()\n",
    "\n",
    "    current_train_loss = total_train_loss / len(train_dataloaders[station])\n",
    "    train_losses.append(current_train_loss)\n",
    "\n",
    "    total_val_loss = 0\n",
    "    pm_model.eval()\n",
    "    with torch.no_grad():\n",
    "        for val_x, val_y in val_dataloaders[station]:\n",
    "            val_x = val_x.to(device)\n",
    "            val_y = val_y.to(device)\n",
    "            val_out = pm_model(val_x)\n",
    "\n",
    "            val_loss = criterion(val_out, val_y)\n",
    "            total_val_loss += val_loss.item()\n",
    "\n",
    "    current_val_loss = total_val_loss / len(val_dataloaders[station])\n",
    "    val_losses.append(current_val_loss)\n",
    "    if current_val_loss < min_val_loss: \n",
    "        min_val_loss = current_val_loss \n",
    "        torch.save(pm_model.state_dict(), best_weights_path)\n",
    "    print(f'Epoch {epoch+1} - Train loss = {current_train_loss:.4f} - Val loss = {current_val_loss:.4f} - best min_val_loss = {min_val_loss:.4f} - lr = {optimizer.param_groups[0][\"lr\"]:.8f}') \n",
    "    scheduler.step(current_val_loss)"
   ]
  },
  {
   "cell_type": "code",
   "execution_count": 29,
   "metadata": {},
   "outputs": [
    {
     "data": {
      "image/png": "[encoded data removed]",
      "text/plain": [
       "<Figure size 432x288 with 1 Axes>"
      ]
     },
     "metadata": {},
     "output_type": "display_data"
    }
   ],
   "source": [
    "plt.plot(train_losses)\n",
    "plt.show()"
   ]
  },
  {
   "cell_type": "code",
   "execution_count": 30,
   "metadata": {},
   "outputs": [
    {
     "data": {
      "image/png": "[encoded data removed]",
      "text/plain": [
       "<Figure size 432x288 with 1 Axes>"
      ]
     },
     "metadata": {},
     "output_type": "display_data"
    }
   ],
   "source": [
    "plt.plot(val_losses)\n",
    "plt.show()"
   ]
  },
  {
   "cell_type": "markdown",
   "metadata": {},
   "source": [
    "## Evaluate"
   ]
  },
  {
   "cell_type": "code",
   "execution_count": 31,
   "metadata": {},
   "outputs": [],
   "source": [
    "pm_model.eval()\n",
    "y_preds = np.array([])\n",
    "y_true = np.array([])\n",
    "with torch.no_grad():\n",
    "    for x, y in test_dataloaders[station]:\n",
    "        x = x.to(device)\n",
    "        y_pred = pm_model(x)\n",
    "        y_preds = np.concatenate((y_preds, y_pred.detach().cpu().numpy().flatten()))\n",
    "        y_true = np.concatenate((y_true, y.numpy().flatten()))\n"
   ]
  },
  {
   "cell_type": "code",
   "execution_count": 32,
   "metadata": {},
   "outputs": [
    {
     "data": {
      "text/plain": [
       "3.5090399620992527"
      ]
     },
     "execution_count": 32,
     "metadata": {},
     "output_type": "execute_result"
    }
   ],
   "source": [
    "np.sqrt(mean_squared_error(y_true, y_preds))"
   ]
  },
  {
   "cell_type": "code",
   "execution_count": 33,
   "metadata": {},
   "outputs": [
    {
     "data": {
      "image/png": "[encoded data removed]",
      "text/plain": [
       "<Figure size 1440x720 with 1 Axes>"
      ]
     },
     "metadata": {},
     "output_type": "display_data"
    }
   ],
   "source": [
    "plt.figure(figsize=(20,10))\n",
    "x = np.arange(0, len(y_true))\n",
    "plt.plot(x, y_true, label='true')\n",
    "plt.plot(x, y_preds, label='pred')\n",
    "plt.legend()\n",
    "plt.show()"
   ]
  }
 ],
 "metadata": {
  "interpreter": {
   "hash": "851ad3827ade15f126283b8c8042c69c5b9ec84b281d2cf20f82bb0ef051bf16"
  },
  "kernelspec": {
   "display_name": "Python 3.8.11 ('CEM')",
   "language": "python",
   "name": "python3"
  },
  "language_info": {
   "codemirror_mode": {
    "name": "ipython",
    "version": 3
   },
   "file_extension": ".py",
   "mimetype": "text/x-python",
   "name": "python",
   "nbconvert_exporter": "python",
   "pygments_lexer": "ipython3",
   "version": "3.8.11"
  },
  "orig_nbformat": 4
 },
 "nbformat": 4,
 "nbformat_minor": 2
}
